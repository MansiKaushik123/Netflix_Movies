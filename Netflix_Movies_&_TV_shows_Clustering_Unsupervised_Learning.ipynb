{
  "nbformat": 4,
  "nbformat_minor": 0,
  "metadata": {
    "colab": {
      "private_outputs": true,
      "provenance": [],
      "collapsed_sections": [
        "vncDsAP0Gaoa",
        "FJNUwmbgGyua",
        "w6K7xa23Elo4",
        "yQaldy8SH6Dl",
        "mDgbUHAGgjLW",
        "O_i_v8NEhb9l",
        "HhfV-JJviCcP",
        "Y3lxredqlCYt",
        "3RnN4peoiCZX",
        "x71ZqKXriCWQ",
        "7hBIi_osiCS2",
        "JlHwYmJAmNHm",
        "35m5QtbWiB9F",
        "PoPl-ycgm1ru",
        "H0kj-8xxnORC",
        "nA9Y7ga8ng1Z",
        "PBTbrJXOngz2",
        "u3PMJOP6ngxN",
        "dauF4eBmngu3",
        "bKJF3rekwFvQ",
        "MSa1f5Uengrz",
        "GF8Ens_Soomf",
        "0wOQAZs5pc--",
        "K5QZ13OEpz2H",
        "lQ7QKXXCp7Bj",
        "448CDAPjqfQr",
        "KSlN3yHqYklG",
        "t6dVpIINYklI",
        "ijmpgYnKYklI",
        "-JiQyfWJYklI",
        "EM7whBJCYoAo",
        "fge-S5ZAYoAp",
        "85gYPyotYoAp",
        "RoGjAbkUYoAp",
        "4Of9eVA-YrdM",
        "iky9q4vBYrdO",
        "F6T5p64dYrdO",
        "y-Ehk30pYrdP",
        "bamQiAODYuh1",
        "QHF8YVU7Yuh3",
        "GwzvFGzlYuh3",
        "qYpmQ266Yuh3",
        "OH-pJp9IphqM",
        "bbFf2-_FphqN",
        "_ouA3fa0phqN",
        "Seke61FWphqN",
        "PIIx-8_IphqN",
        "t27r6nlMphqO",
        "r2jJGEOYphqO",
        "b0JNsNcRphqO",
        "BZR9WyysphqO",
        "jj7wYXLtphqO",
        "eZrbJ2SmphqO",
        "rFu4xreNphqO",
        "YJ55k-q6phqO",
        "gCFgpxoyphqP",
        "OVtJsKN_phqQ",
        "lssrdh5qphqQ",
        "U2RJ9gkRphqQ",
        "1M8mcRywphqQ",
        "tgIPom80phqQ",
        "JMzcOPDDphqR",
        "x-EpHcCOp1ci",
        "X_VqEhTip1ck",
        "8zGJKyg5p1ck",
        "PVzmfK_Ep1ck",
        "n3dbpmDWp1ck",
        "ylSl6qgtp1ck",
        "ZWILFDl5p1ck",
        "M7G43BXep1ck",
        "Ag9LCva-p1cl",
        "E6MkPsBcp1cl",
        "2cELzS2fp1cl",
        "3MPXvC8up1cl",
        "NC_X3p0fY2L0",
        "UV0SzAkaZNRQ",
        "YPEH6qLeZNRQ",
        "q29F0dvdveiT",
        "EXh0U9oCveiU",
        "22aHeOlLveiV",
        "g-ATYxFrGrvw",
        "Yfr_Vlr8HBkt",
        "8yEUt7NnHlrM",
        "tEA2Xm5dHt1r",
        "I79__PHVH19G",
        "Ou-I18pAyIpj",
        "fF3858GYyt-u",
        "4_0_7-oCpUZd",
        "hwyV_J3ipUZe",
        "3yB-zSqbpUZe",
        "dEUvejAfpUZe",
        "Fd15vwWVpUZf",
        "bn_IUdTipZyH",
        "49K5P_iCpZyH",
        "Nff-vKELpZyI",
        "kLW572S8pZyI",
        "dWbDXHzopZyI",
        "yLjJCtPM0KBk",
        "xiyOF9F70UgQ",
        "7wuGOrhz0itI",
        "id1riN9m0vUs",
        "578E2V7j08f6",
        "89xtkJwZ18nB",
        "67NQN5KX2AMe",
        "Iwf50b-R2tYG",
        "GMQiZwjn3iu7",
        "WVIkgGqN3qsr",
        "XkPnILGE3zoT",
        "Hlsf0x5436Go",
        "mT9DMSJo4nBL",
        "c49ITxTc407N",
        "OeJFEK0N496M",
        "9ExmJH0g5HBk",
        "cJNqERVU536h",
        "k5UmGsbsOxih",
        "T0VqWOYE6DLQ",
        "qBMux9mC6MCf",
        "-oLEiFgy-5Pf",
        "C74aWNz2AliB",
        "2DejudWSA-a0",
        "pEMng2IbBLp7",
        "rAdphbQ9Bhjc",
        "TNVZ9zx19K6k",
        "nqoHp30x9hH9",
        "rMDnDkt2B6du",
        "yiiVWRdJDDil",
        "1UUpS68QDMuG",
        "kexQrXU-DjzY",
        "T5CmagL3EC8N",
        "BhH2vgX9EjGr",
        "qjKvONjwE8ra",
        "P1XJ9OREExlT",
        "VFOzZv6IFROw",
        "TIqpNgepFxVj",
        "VfCC591jGiD4",
        "OB4l2ZhMeS1U",
        "ArJBuiUVfxKd",
        "4qY1EAkEfxKe",
        "PiV4Ypx8fxKe",
        "TfvqoZmBfxKf",
        "dJ2tPlVmpsJ0",
        "JWYfwnehpsJ1",
        "-jK_YjpMpsJ2",
        "HAih1iBOpsJ2",
        "zVGeBEFhpsJ2",
        "bmKjuQ-FpsJ3",
        "Fze-IPXLpx6K",
        "7AN1z2sKpx6M",
        "9PIHJqyupx6M",
        "_-qAgymDpx6N",
        "Z-hykwinpx6N",
        "h_CCil-SKHpo",
        "cBFFvTBNJzUa",
        "HvGl1hHyA_VK",
        "EyNgTHvd2WFk",
        "KH5McJBi2d8v",
        "iW_Lq9qf2h6X",
        "-Kee-DAl2viO",
        "gCX9965dhzqZ",
        "gIfDvo9L0UH2"
      ],
      "include_colab_link": true
    },
    "kernelspec": {
      "name": "python3",
      "display_name": "Python 3"
    },
    "language_info": {
      "name": "python"
    }
  },
  "cells": [
    {
      "cell_type": "markdown",
      "metadata": {
        "id": "view-in-github",
        "colab_type": "text"
      },
      "source": [
        "<a href=\"https://colab.research.google.com/github/MansiKaushik123/Netflix_Movies/blob/main/Netflix_Movies_%26_TV_shows_Clustering_Unsupervised_Learning.ipynb\" target=\"_parent\"><img src=\"https://colab.research.google.com/assets/colab-badge.svg\" alt=\"Open In Colab\"/></a>"
      ]
    },
    {
      "cell_type": "markdown",
      "source": [
        "# **Project Name**    - Netflix Movies & TV shows Clustering -Unsupervised Learning\n",
        "\n"
      ],
      "metadata": {
        "id": "vncDsAP0Gaoa"
      }
    },
    {
      "cell_type": "markdown",
      "source": [
        "##### **Project Type**    - Unsupervised\n",
        "##### **Contribution**    - Individual\n",
        "##### **Team Member 1 -**  Mansi Kaushik\n",
        "\n"
      ],
      "metadata": {
        "id": "beRrZCGUAJYm"
      }
    },
    {
      "cell_type": "markdown",
      "source": [
        "![6075689.png](data:image/png;base64,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)"
      ],
      "metadata": {
        "id": "rlbs2JZ_vgzg"
      }
    },
    {
      "cell_type": "markdown",
      "source": [
        "# **Project Summary -**"
      ],
      "metadata": {
        "id": "FJNUwmbgGyua"
      }
    },
    {
      "cell_type": "markdown",
      "source": [
        "Write the summary here within 500-600 words.\n",
        "\n",
        "Netflix, Inc. is a company from the United States that provides a service where you can watch videos whenever you want after subscribing. It's like a streaming service and is located in Los Gatos, California. It was started by Reed Hastings and Marc Randolph in 1997 in Scotts Valley, California. They have a collection of movies and TV shows that they show through agreements with others, as well as their own creations called Netflix Originals.\n",
        "\n",
        "**In this project,i have done following things:-**\n",
        "\n",
        "**1.** Exploratory Data Analysis.\n",
        "\n",
        "**2.** Understanding what type content is available in different countries.\n",
        "\n",
        "**3.** Is Netflix has increasingly focusing on TV rather than movies in recent years.\n",
        "\n",
        "**4.** Clustering similar content by matching text-based features."
      ],
      "metadata": {
        "id": "F6v_1wHtG2nS"
      }
    },
    {
      "cell_type": "markdown",
      "source": [
        "# **GitHub Link -**"
      ],
      "metadata": {
        "id": "w6K7xa23Elo4"
      }
    },
    {
      "cell_type": "markdown",
      "source": [
        "Provide your GitHub Link here.\n",
        "https://github.com/MansiKaushik123/Netflix_Movies"
      ],
      "metadata": {
        "id": "h1o69JH3Eqqn"
      }
    },
    {
      "cell_type": "markdown",
      "source": [
        "# **Problem Statement**\n"
      ],
      "metadata": {
        "id": "yQaldy8SH6Dl"
      }
    },
    {
      "cell_type": "markdown",
      "source": [
        "**Write Problem Statement Here.**\n",
        "\n",
        "This dataset consists of tv shows and movies available on Netflix as of 2019. The dataset is collected from Flixable which is a third-party Netflix search engine.\n",
        "\n",
        "In 2018, they released an interesting report which shows that the number of TV shows on Netflix has nearly tripled since 2010. The streaming service’s number of movies has decreased by more than 2,000 titles since 2010, while its number of TV shows has nearly tripled. It will be interesting to explore what all other insights can be obtained from the same dataset."
      ],
      "metadata": {
        "id": "DpeJGUA3kjGy"
      }
    },
    {
      "cell_type": "markdown",
      "source": [
        "# **General Guidelines** : -  "
      ],
      "metadata": {
        "id": "mDgbUHAGgjLW"
      }
    },
    {
      "cell_type": "markdown",
      "source": [
        "1.   Well-structured, formatted, and commented code is required.\n",
        "2.   Exception Handling, Production Grade Code & Deployment Ready Code will be a plus. Those students will be awarded some additional credits.\n",
        "     \n",
        "     The additional credits will have advantages over other students during Star Student selection.\n",
        "       \n",
        "             [ Note: - Deployment Ready Code is defined as, the whole .ipynb notebook should be executable in one go\n",
        "                       without a single error logged. ]\n",
        "\n",
        "3.   Each and every logic should have proper comments.\n",
        "4. You may add as many number of charts you want. Make Sure for each and every chart the following format should be answered.\n",
        "        \n",
        "\n",
        "```\n",
        "# Chart visualization code\n",
        "```\n",
        "            \n",
        "\n",
        "*   Why did you pick the specific chart?\n",
        "*   What is/are the insight(s) found from the chart?\n",
        "* Will the gained insights help creating a positive business impact?\n",
        "Are there any insights that lead to negative growth? Justify with specific reason.\n",
        "\n",
        "5. You have to create at least 15 logical & meaningful charts having important insights.\n",
        "\n",
        "\n",
        "[ Hints : - Do the Vizualization in  a structured way while following \"UBM\" Rule.\n",
        "\n",
        "U - Univariate Analysis,\n",
        "\n",
        "B - Bivariate Analysis (Numerical - Categorical, Numerical - Numerical, Categorical - Categorical)\n",
        "\n",
        "M - Multivariate Analysis\n",
        " ]\n",
        "\n",
        "\n",
        "\n",
        "\n",
        "\n",
        "6. You may add more ml algorithms for model creation. Make sure for each and every algorithm, the following format should be answered.\n",
        "\n",
        "\n",
        "*   Explain the ML Model used and it's performance using Evaluation metric Score Chart.\n",
        "\n",
        "\n",
        "*   Cross- Validation & Hyperparameter Tuning\n",
        "\n",
        "*   Have you seen any improvement? Note down the improvement with updates Evaluation metric Score Chart.\n",
        "\n",
        "*   Explain each evaluation metric's indication towards business and the business impact pf the ML model used.\n",
        "\n",
        "\n",
        "\n",
        "\n",
        "\n",
        "\n",
        "\n",
        "\n",
        "\n",
        "\n",
        "\n",
        "\n",
        "\n",
        "\n",
        "\n",
        "\n",
        "\n",
        "\n"
      ],
      "metadata": {
        "id": "ZrxVaUj-hHfC"
      }
    },
    {
      "cell_type": "markdown",
      "source": [
        "# ***Let's Begin !***"
      ],
      "metadata": {
        "id": "O_i_v8NEhb9l"
      }
    },
    {
      "cell_type": "markdown",
      "source": [
        "## ***1. Know Your Data***"
      ],
      "metadata": {
        "id": "HhfV-JJviCcP"
      }
    },
    {
      "cell_type": "markdown",
      "source": [
        "### Import Libraries"
      ],
      "metadata": {
        "id": "Y3lxredqlCYt"
      }
    },
    {
      "cell_type": "code",
      "source": [
        "# Import Libraries\n",
        "# Import Libraries\n",
        "\n",
        "# Importing the libraries\n",
        "import numpy as np\n",
        "import pandas as pd\n",
        "from numpy import math\n",
        "import seaborn as sns\n",
        "import matplotlib.pyplot as plt\n",
        "import matplotlib.ticker as mtick\n",
        "from matplotlib.pyplot import figure\n",
        "import plotly.graph_objects as go\n",
        "import plotly.offline as py\n",
        "import plotly.express as px\n",
        "from datetime import datetime\n",
        "\n",
        "import plotly.graph_objects as go\n",
        "import plotly.express as px\n",
        "from plotly.subplots import make_subplots\n",
        "from plotly.offline import init_notebook_mode, iplot\n",
        "import plotly.offline as po\n",
        "import plotly.io as pio\n",
        "\n",
        "from collections import Counter\n",
        "from sklearn import preprocessing\n",
        "from sklearn.feature_extraction.text import TfidfVectorizer\n",
        "from sklearn.model_selection import train_test_split, KFold\n",
        "from nltk.corpus import stopwords\n",
        "from nltk.stem.snowball import SnowballStemmer\n",
        "from sklearn.decomposition import PCA\n",
        "\n",
        "import warnings\n",
        "warnings.filterwarnings('ignore')"
      ],
      "metadata": {
        "id": "M8Vqi-pPk-HR"
      },
      "execution_count": null,
      "outputs": []
    },
    {
      "cell_type": "markdown",
      "source": [
        "### Dataset Loading"
      ],
      "metadata": {
        "id": "3RnN4peoiCZX"
      }
    },
    {
      "cell_type": "code",
      "source": [
        "# Load Dataset\n",
        "from google.colab import drive\n",
        "drive.mount('/content/drive')"
      ],
      "metadata": {
        "id": "4CkvbW_SlZ_R"
      },
      "execution_count": null,
      "outputs": []
    },
    {
      "cell_type": "code",
      "source": [
        "pip install -U kaleido"
      ],
      "metadata": {
        "id": "9SDMiXLd8mBT"
      },
      "execution_count": null,
      "outputs": []
    },
    {
      "cell_type": "code",
      "source": [
        "#loading the dataset.\n",
        "netflix_movies1= pd.read_csv('/content/NETFLIX MOVIES AND TV SHOWS CLUSTERING.csv')\n"
      ],
      "metadata": {
        "id": "hSBw5YUd83CA"
      },
      "execution_count": null,
      "outputs": []
    },
    {
      "cell_type": "markdown",
      "source": [
        "### Dataset First View"
      ],
      "metadata": {
        "id": "x71ZqKXriCWQ"
      }
    },
    {
      "cell_type": "code",
      "source": [
        "# Dataset First Look\n",
        "netflix_movies1.head()"
      ],
      "metadata": {
        "id": "LWNFOSvLl09H"
      },
      "execution_count": null,
      "outputs": []
    },
    {
      "cell_type": "code",
      "source": [
        "netflix_movies1.tail()"
      ],
      "metadata": {
        "id": "ylGaAC-09VYg"
      },
      "execution_count": null,
      "outputs": []
    },
    {
      "cell_type": "code",
      "source": [
        "netflix_movies1['title'].value_counts()"
      ],
      "metadata": {
        "id": "U4ZCqNM89Z8_"
      },
      "execution_count": null,
      "outputs": []
    },
    {
      "cell_type": "markdown",
      "source": [
        "### Dataset Rows & Columns count"
      ],
      "metadata": {
        "id": "7hBIi_osiCS2"
      }
    },
    {
      "cell_type": "code",
      "source": [
        "# Dataset Rows & Columns count\n",
        "netflix_movies1.index"
      ],
      "metadata": {
        "id": "Kllu7SJgmLij"
      },
      "execution_count": null,
      "outputs": []
    },
    {
      "cell_type": "code",
      "source": [
        "netflix_movies1.shape"
      ],
      "metadata": {
        "id": "VxnS5TNS9j4D"
      },
      "execution_count": null,
      "outputs": []
    },
    {
      "cell_type": "code",
      "source": [
        "netflix_movies1.columns"
      ],
      "metadata": {
        "id": "qS3HV5kQ9mfC"
      },
      "execution_count": null,
      "outputs": []
    },
    {
      "cell_type": "markdown",
      "source": [
        "### Dataset Information"
      ],
      "metadata": {
        "id": "JlHwYmJAmNHm"
      }
    },
    {
      "cell_type": "code",
      "source": [
        "# Dataset Info\n",
        "netflix_movies1.info()"
      ],
      "metadata": {
        "id": "e9hRXRi6meOf"
      },
      "execution_count": null,
      "outputs": []
    },
    {
      "cell_type": "markdown",
      "source": [
        "#### Duplicate Values"
      ],
      "metadata": {
        "id": "35m5QtbWiB9F"
      }
    },
    {
      "cell_type": "code",
      "source": [
        "# Dataset Duplicate Value Count\n",
        "netflix_movies1.duplicated().sum()"
      ],
      "metadata": {
        "id": "1sLdpKYkmox0"
      },
      "execution_count": null,
      "outputs": []
    },
    {
      "cell_type": "markdown",
      "source": [
        "#### Missing Values/Null Values"
      ],
      "metadata": {
        "id": "PoPl-ycgm1ru"
      }
    },
    {
      "cell_type": "code",
      "source": [
        "# Missing Values/Null Values Count\n",
        "netflix_movies1.isnull().sum()\n"
      ],
      "metadata": {
        "id": "GgHWkxvamxVg"
      },
      "execution_count": null,
      "outputs": []
    },
    {
      "cell_type": "code",
      "source": [
        "#The count of missing data points in the Netflix Dataset.\n",
        "netflix_movies1.isnull().sum().sum()"
      ],
      "metadata": {
        "id": "oI32pCdB98Aj"
      },
      "execution_count": null,
      "outputs": []
    },
    {
      "cell_type": "code",
      "source": [
        "# Visualizing the missing values\n",
        "#Handling Null Values\n",
        "netflix_movies1['cast'].fillna(value='No cast',inplace=True)\n",
        "netflix_movies1['country'].fillna(value=netflix_movies1['country'].mode()[0],inplace=True)"
      ],
      "metadata": {
        "id": "3q5wnI3om9sJ"
      },
      "execution_count": null,
      "outputs": []
    },
    {
      "cell_type": "code",
      "source": [
        "netflix_movies1.shape"
      ],
      "metadata": {
        "id": "gwf_XcuN-Ik8"
      },
      "execution_count": null,
      "outputs": []
    },
    {
      "cell_type": "markdown",
      "source": [
        "### **What did you know about your dataset?**\n"
      ],
      "metadata": {
        "id": "H0kj-8xxnORC"
      }
    },
    {
      "cell_type": "markdown",
      "source": [
        "**Answer Here**\n",
        "This dataset holds details about different TV shows and movies offered on Netflix. It includes information such as where they were made, the year they were released, how they're rated, how long they are, what type of content they are (like action, drama, etc.), and a brief summary of each title. It consists of 12 columns and 7787 rows."
      ],
      "metadata": {
        "id": "gfoNAAC-nUe_"
      }
    },
    {
      "cell_type": "markdown",
      "source": [
        "## ***2. Understanding Your Variables***"
      ],
      "metadata": {
        "id": "nA9Y7ga8ng1Z"
      }
    },
    {
      "cell_type": "code",
      "source": [
        "# Dataset Columns\n",
        "netflix_movies1.columns"
      ],
      "metadata": {
        "id": "j7xfkqrt5Ag5"
      },
      "execution_count": null,
      "outputs": []
    },
    {
      "cell_type": "code",
      "source": [
        "# Dataset Describe\n",
        "netflix_movies1.describe(include='all')"
      ],
      "metadata": {
        "id": "DnOaZdaE5Q5t"
      },
      "execution_count": null,
      "outputs": []
    },
    {
      "cell_type": "markdown",
      "source": [
        "### **Variables Description**"
      ],
      "metadata": {
        "id": "PBTbrJXOngz2"
      }
    },
    {
      "cell_type": "markdown",
      "source": [
        "**Answer Here**\n",
        "**Attribute Information**\n",
        "\n",
        "**Show ID:** Unique code for each Movie or TV Show.\n",
        "\n",
        "**Type:** Whether it's a Movie or TV Show.\n",
        "\n",
        "**Title:** Name of the Movie or TV Show.\n",
        "\n",
        "**Director:** Person who directed the Movie.\n",
        "\n",
        "**Cast:** Actors who acted in the Movie or Show.\n",
        "\n",
        "**Country:** Nation where the Movie or Show was made.\n",
        "\n",
        "**Date Added:** Date it became available on Netflix.\n",
        "\n",
        "**Release Year:** The actual year the Movie or Show was launched.\n",
        "\n",
        "**Rating:** TV rating given to the Movie or Show.\n",
        "\n",
        "**Duration:** Total time in minutes or number of seasons.\n",
        "\n",
        "**Listed In:** Category or Genre.\n",
        "\n",
        "**Description:** Brief summary of the plot."
      ],
      "metadata": {
        "id": "aJV4KIxSnxay"
      }
    },
    {
      "cell_type": "markdown",
      "source": [
        "### Check Unique Values for each variable."
      ],
      "metadata": {
        "id": "u3PMJOP6ngxN"
      }
    },
    {
      "cell_type": "code",
      "source": [
        "# Check Unique Values for each variable.\n",
        "print(netflix_movies1.apply(lambda col: col.unique()))"
      ],
      "metadata": {
        "id": "zms12Yq5n-jE"
      },
      "execution_count": null,
      "outputs": []
    },
    {
      "cell_type": "code",
      "source": [
        "#Write  your code to prepare your dataset for analysis.\n",
        "#Generate additional attributes to hold individual components of the date: date, day, month, and year.\n",
        "netflix_movies1[\"date_added\"] = pd.to_datetime(netflix_movies1['date_added'])  # First convert date_added to date time format.\n",
        "netflix_movies1['day_added'] = netflix_movies1['date_added'].dt.day            # Compute day.\n",
        "netflix_movies1['year_added'] = netflix_movies1['date_added'].dt.year          # Compute year.\n",
        "netflix_movies1['month_added'] = netflix_movies1['date_added'].dt.month        # Compute month.\n"
      ],
      "metadata": {
        "id": "H53eDOywEJpX"
      },
      "execution_count": null,
      "outputs": []
    },
    {
      "cell_type": "markdown",
      "source": [
        "# **What all manipulations have you done and insights you found?**"
      ],
      "metadata": {
        "id": "WB8RQTTQEfdB"
      }
    },
    {
      "cell_type": "markdown",
      "source": [
        "**Answer Here.**\n",
        "\n",
        "**Director Insights:** The data shows that there are some values missing in the \"Director\" column.\n",
        "\n",
        "**Country Insights:** In the \"Country\" column, there are some values missing which we have replaced with zeros.\n",
        "\n",
        "**Cast Insights:** The \"Cast\" column also has missing values that have been filled with the placeholder \"No cast.\"\n",
        "\n",
        "Date Added Insights: Similarly, the \"Date Added\" column has missing values.\n",
        "\n",
        "**Duplicates Identified:** We've found some duplicated entries in the dataset, and the total sum of values in one column is zero.\n",
        "\n",
        "**Finding Unique Values:** We've also looked at the unique values in each column, identifying distinct items across different columns.\n",
        "\n",
        "Date Added Column Enhancement: Within the \"Date Added\" column, we've gone a step further by extracting more information such as the day, month, and year.\n",
        "\n",
        "**Summary of Findings:**\n",
        " In conclusion, the dataset has gaps in the director, country, cast, and date added columns. We've filled in the cast column gaps with \"No cast,\" and for the country column, zeros were used. We've detected and noted duplicated entries, including a column with a total sum of zero. Each column holds unique values. Moreover, we've enriched the date added column by breaking down information like the day, month, and year.\n",
        "\n",
        "\n",
        "\n",
        "\n"
      ],
      "metadata": {
        "id": "LbyXE7I1olp8"
      }
    },
    {
      "cell_type": "markdown",
      "source": [
        "## ***4. Data Vizualization, Storytelling & Experimenting with charts : Understand the relationships between variables***"
      ],
      "metadata": {
        "id": "GF8Ens_Soomf"
      }
    },
    {
      "cell_type": "markdown",
      "source": [
        "#### Chart - 1"
      ],
      "metadata": {
        "id": "0wOQAZs5pc--"
      }
    },
    {
      "cell_type": "code",
      "source": [
        "# Chart - 1 visualization code\n",
        "labels = ['TV Show', 'Movie']\n",
        "values = [netflix_movies1.type.value_counts()[1], netflix_movies1.type.value_counts()[0]]\n",
        "\n",
        "# Colors\n",
        "colors = ['#ffd700', '#008000']\n",
        "\n",
        "# Create pie chart\n",
        "fig = go.Figure(data=[go.Pie(labels=labels, values=values, hole=.6)])\n",
        "\n",
        "# Customize layout\n",
        "fig.update_layout(\n",
        "    title_text='Type of Content Watched on Netflix',\n",
        "    title_x=0.5,\n",
        "    height=500,\n",
        "    width=500,\n",
        "    legend=dict(x=0.9),\n",
        "    annotations=[dict(text='Type of Content', font_size=20, showarrow=False)]\n",
        ")\n",
        "\n",
        "# Set colors\n",
        "fig.update_traces(marker=dict(colors=colors))\n"
      ],
      "metadata": {
        "id": "7v_ESjsspbW7"
      },
      "execution_count": null,
      "outputs": []
    },
    {
      "cell_type": "code",
      "source": [
        "from IPython.display import Image\n",
        "img_bytes = fig.to_image(format=\"jpeg\", width=800, height=800, scale=1)\n",
        "Image(img_bytes)"
      ],
      "metadata": {
        "id": "pTQWJypqFrdA"
      },
      "execution_count": null,
      "outputs": []
    },
    {
      "cell_type": "markdown",
      "source": [
        "##### **1. Why did you pick the specific chart?**"
      ],
      "metadata": {
        "id": "K5QZ13OEpz2H"
      }
    },
    {
      "cell_type": "markdown",
      "source": [
        "**Answer Here.**\n",
        "\n",
        "The type of chart used in the code is a pie chart. I chose this chart because it's really good at showing how different categories of data are spread out. In this situation, the chart is used to show the different kinds of things people watch on Netflix. These things are split into two categories: \"TV Show\" and \"Movie.\""
      ],
      "metadata": {
        "id": "XESiWehPqBRc"
      }
    },
    {
      "cell_type": "markdown",
      "source": [
        "##### **2. What is/are the insight(s) found from the chart?**"
      ],
      "metadata": {
        "id": "lQ7QKXXCp7Bj"
      }
    },
    {
      "cell_type": "markdown",
      "source": [
        "**Answer Here**\n",
        "Most of the content people watch on Netflix are TV shows, making up about 69.1%. On the other hand, movies make up a smaller part, accounting for around 30.9%."
      ],
      "metadata": {
        "id": "C_j1G7yiqdRP"
      }
    },
    {
      "cell_type": "markdown",
      "source": [
        "##### **3. Will the gained insights help creating a positive business impact?**\n",
        "**Are there any insights that lead to negative growth? Justify with specific reason.**"
      ],
      "metadata": {
        "id": "448CDAPjqfQr"
      }
    },
    {
      "cell_type": "markdown",
      "source": [
        "**Answer Here**\n",
        "\n",
        "The information shows that more people like watching TV shows than movies. About 69.1% of people prefer TV shows, while only 30.9% prefer movies. This hints that people generally prefer shorter content like TV shows instead of spending time on longer movies that might not be as interesting."
      ],
      "metadata": {
        "id": "3cspy4FjqxJW"
      }
    },
    {
      "cell_type": "markdown",
      "source": [
        "#### Chart - 2"
      ],
      "metadata": {
        "id": "KSlN3yHqYklG"
      }
    },
    {
      "cell_type": "code",
      "source": [
        "# Chart - 2 visualization code\n",
        "import plotly.graph_objects as go\n",
        "import pandas as pd\n",
        "tv_show = netflix_movies1[netflix_movies1[\"type\"] == \"TV Show\"]\n",
        "movie = netflix_movies1[netflix_movies1[\"type\"] == \"Movie\"]\n",
        "\n",
        "col = \"year_added\"\n",
        "\n",
        "content_1 = tv_show[\"year_added\"].value_counts().sort_index()\n",
        "content_2 = movie[\"year_added\"].value_counts().sort_index()\n",
        "\n",
        "trace1 = go.Scatter(x=content_1.index, y=content_1.values, name=\"TV Shows\", marker=dict(color='#008000', line=dict(width=4)))\n",
        "trace2 = go.Scatter(x=content_2.index, y=content_2.values, name=\"Movies\", marker=dict(color='#ffd700', line=dict(width=4)))\n",
        "\n",
        "fig = go.Figure(data=[trace1, trace2], layout=go.Layout(title=\"Content added over the years\",title_x=0.5, legend=dict(x=0.8, y=1.1, orientation=\"h\")))\n",
        "# Display chart\n",
        "fig.show()\n",
        "\n"
      ],
      "metadata": {
        "id": "R4YgtaqtYklH"
      },
      "execution_count": null,
      "outputs": []
    },
    {
      "cell_type": "code",
      "source": [
        "from IPython.display import Image\n",
        "img_bytes = fig.to_image(format=\"png\", width=1200, height=500, scale=1)\n",
        "Image(img_bytes)\n"
      ],
      "metadata": {
        "id": "tpi6oN4UH0EU"
      },
      "execution_count": null,
      "outputs": []
    },
    {
      "cell_type": "markdown",
      "source": [
        "##### **1. Why did you pick the specific chart?**"
      ],
      "metadata": {
        "id": "t6dVpIINYklI"
      }
    },
    {
      "cell_type": "markdown",
      "source": [
        "**Answer Here.**\n",
        "\n",
        "The line graph is great for displaying how data changes over a continuous axis, like years. It helps you compare the number of TV shows and movies and how they change over time."
      ],
      "metadata": {
        "id": "5aaW0BYyYklI"
      }
    },
    {
      "cell_type": "markdown",
      "source": [
        "##### **2. What is/are the insight(s) found from the chart?**"
      ],
      "metadata": {
        "id": "ijmpgYnKYklI"
      }
    },
    {
      "cell_type": "markdown",
      "source": [
        "**Answer Here**\n",
        "\n",
        "The data about how Netflix added TV shows and movies between 2008 and 2022 shows that there were not as many additions in the beginning. But, from 2016 onwards, there was a small rise in the number of new shows and movies. In 2019, there was a big jump in the number of movies added, while TV shows also increased but not as much as movies."
      ],
      "metadata": {
        "id": "PSx9atu2YklI"
      }
    },
    {
      "cell_type": "markdown",
      "source": [
        "##### **3. Will the gained insights help creating a positive business impact?**\n",
        "**Are there any insights that lead to negative growth? Justify with specific reason.**"
      ],
      "metadata": {
        "id": "-JiQyfWJYklI"
      }
    },
    {
      "cell_type": "markdown",
      "source": [
        "**Answer Here**\n",
        "\n",
        "The new information suggests that Netflix is benefiting because more and more people want to watch TV shows and movies on their platform. This increase in popularity gives Netflix a chance to offer better content to its users, which will make users happier and more involved."
      ],
      "metadata": {
        "id": "BcBbebzrYklV"
      }
    },
    {
      "cell_type": "markdown",
      "source": [
        "#### Chart - 3"
      ],
      "metadata": {
        "id": "EM7whBJCYoAo"
      }
    },
    {
      "cell_type": "code",
      "source": [
        "# Chart - 3 visualization code\n",
        "# Create a DataFrame to store month values and counts\n",
        "months_df = pd.DataFrame(netflix_movies1['month_added'].value_counts())\n",
        "\n",
        "# Reset the index to create a \"month\" column\n",
        "months_df.reset_index(inplace=True)\n",
        "\n",
        "# Rename the columns to \"month\" and \"count\"\n",
        "months_df.rename(columns={'index': 'month', 'month_added': 'count'}, inplace=True)"
      ],
      "metadata": {
        "id": "t6GMdE67YoAp"
      },
      "execution_count": null,
      "outputs": []
    },
    {
      "cell_type": "code",
      "source": [
        "\n",
        "fig = px.bar(months_df, x=\"month\", y=\"count\", text_auto=True, color='count', color_continuous_scale=['#0000FF', '#FFFF00'])\n",
        "fig.update_layout(\n",
        "    title={\n",
        "        'text': 'Month wise Addition of Movies and TV Shows on Netflix',\n",
        "        'y':0.95,\n",
        "        'x':0.5,\n",
        "        'xanchor': 'center',\n",
        "        'yanchor': 'top'},\n",
        "        autosize=False,\n",
        "        width=1000,\n",
        "        height=500,\n",
        "        showlegend=True)\n",
        "# fig.show()\n",
        "fig.show()"
      ],
      "metadata": {
        "id": "nLu9dBC_Jeh7"
      },
      "execution_count": null,
      "outputs": []
    },
    {
      "cell_type": "code",
      "source": [
        "\n",
        "from IPython.display import Image\n",
        "img_bytes = fig.to_image(format=\"png\", width=1000, height=500, scale=1)\n",
        "Image(img_bytes)\n"
      ],
      "metadata": {
        "id": "havWLCmqJhjh"
      },
      "execution_count": null,
      "outputs": []
    },
    {
      "cell_type": "markdown",
      "source": [
        "##### **1. Why did you pick the specific chart?**"
      ],
      "metadata": {
        "id": "fge-S5ZAYoAp"
      }
    },
    {
      "cell_type": "markdown",
      "source": [
        "**Answer Here.**\n",
        "\n",
        "The bar graph is good for showing and comparing information about different categories (like months) and how many times they appear. This graph helps us see how things were added over the months and if there are any noticeable patterns or trends.\n",
        "\n"
      ],
      "metadata": {
        "id": "5dBItgRVYoAp"
      }
    },
    {
      "cell_type": "markdown",
      "source": [
        "##### **2. What is/are the insight(s) found from the chart?**"
      ],
      "metadata": {
        "id": "85gYPyotYoAp"
      }
    },
    {
      "cell_type": "markdown",
      "source": [
        "**Answer Here**\n",
        "\n",
        "Between October and December, there's a clear increase in the amount of new TV shows and movies available on Netflix. This is because these months include holidays like Halloween, Diwali, Thanksgiving, and Christmas. These celebrations often lead to more people staying indoors and looking for things to watch, so Netflix takes advantage of this by releasing a bunch of new content during this time."
      ],
      "metadata": {
        "id": "4jstXR6OYoAp"
      }
    },
    {
      "cell_type": "markdown",
      "source": [
        "##### **3. Will the gained insights help creating a positive business impact?**\n",
        "**Are there any insights that lead to negative growth? Justify with specific reason.**"
      ],
      "metadata": {
        "id": "RoGjAbkUYoAp"
      }
    },
    {
      "cell_type": "markdown",
      "source": [
        "**Answer Here**\n",
        "\n",
        "\"The new information about more TV shows and movies on Netflix from October to December could help the business in a good way. Here's why:\n",
        "\n",
        "Matching what people want during certain months\n",
        "Keeping current customers interested\n",
        "Getting new customers interested\""
      ],
      "metadata": {
        "id": "zfJ8IqMcYoAp"
      }
    },
    {
      "cell_type": "markdown",
      "source": [
        "#### Chart - 4"
      ],
      "metadata": {
        "id": "4Of9eVA-YrdM"
      }
    },
    {
      "cell_type": "code",
      "source": [
        "# Chart - 4 visualization code\n",
        "import matplotlib.pyplot as plt\n",
        "import seaborn as sns\n",
        "fig, ax = plt.subplots(figsize=(15,6))\n",
        "sns.countplot(x='month_added', hue='type',lw=5, data=netflix_movies1, ax=ax,palette=['#FF0000' ,'#0000FF'])"
      ],
      "metadata": {
        "id": "irlUoxc8YrdO"
      },
      "execution_count": null,
      "outputs": []
    },
    {
      "cell_type": "markdown",
      "source": [
        "##### **1. Why did you pick the specific chart?**"
      ],
      "metadata": {
        "id": "iky9q4vBYrdO"
      }
    },
    {
      "cell_type": "markdown",
      "source": [
        "**Answer Here.**\n",
        "\n",
        "By using a countplot, we can quickly observe and compare how often TV shows and movies are added each month."
      ],
      "metadata": {
        "id": "aJRCwT6DYrdO"
      }
    },
    {
      "cell_type": "markdown",
      "source": [
        "##### **2. What is/are the insight(s) found from the chart?**"
      ],
      "metadata": {
        "id": "F6T5p64dYrdO"
      }
    },
    {
      "cell_type": "markdown",
      "source": [
        "**Answer Here**\n",
        "\n",
        "Movies:\n",
        "\n",
        "It seems that January, October, and December are the most popular months for Netflix to add new movies, in contrast to the rest of the months.\n",
        "\n",
        "Television Shows:\n",
        "\n",
        "For TV shows on Netflix, it's noticeable that October, November, and December stand out as the favored months for additions, unlike the other months."
      ],
      "metadata": {
        "id": "Xx8WAJvtYrdO"
      }
    },
    {
      "cell_type": "markdown",
      "source": [
        "##### **3. Will the gained insights help creating a positive business impact?**\n",
        "**Are there any insights that lead to negative growth? Justify with specific reason.**"
      ],
      "metadata": {
        "id": "y-Ehk30pYrdP"
      }
    },
    {
      "cell_type": "markdown",
      "source": [
        "**Answer Here**\n",
        "\n",
        "Understanding which months are popular for movies and TV shows on Netflix could have a positive effect on the business. Here's the reason why:\n",
        "\n",
        "1-Meeting Viewer Demand:\n",
        "\n",
        "2-Capitalizing on Seasonal Trends:\n",
        "\n",
        "3-Improved Competitiveness:"
      ],
      "metadata": {
        "id": "jLNxxz7MYrdP"
      }
    },
    {
      "cell_type": "markdown",
      "source": [
        "#### Chart - 5"
      ],
      "metadata": {
        "id": "bamQiAODYuh1"
      }
    },
    {
      "cell_type": "code",
      "source": [
        "# Chart - 5 visualization code\n",
        "#Analyzing the Variety of Movie Durations\n",
        "plt.figure(figsize=(10,7))\n",
        "#Regular Expression pattern \\d can be thought of as a code that helps find digits, while the + symbol in regex is like a code that helps find one or more of something.\n",
        "sns.distplot(movie['duration'].str.extract('(\\d+)'),kde=False, color=['red'])\n",
        "plt.title('Distplot with Normal distribution for Movies and Tv shows',fontweight=\"bold\")\n",
        "plt.show()"
      ],
      "metadata": {
        "id": "TIJwrbroYuh3"
      },
      "execution_count": null,
      "outputs": []
    },
    {
      "cell_type": "markdown",
      "source": [
        "##### **1. Why did you pick the specific chart?**"
      ],
      "metadata": {
        "id": "QHF8YVU7Yuh3"
      }
    },
    {
      "cell_type": "markdown",
      "source": [
        "**Answer Here.**\n",
        "\n",
        "The Distplot works well for this analysis because it helps us see how many movies are in various duration ranges."
      ],
      "metadata": {
        "id": "dcxuIMRPYuh3"
      }
    },
    {
      "cell_type": "markdown",
      "source": [
        "##### **2. What is/are the insight(s) found from the chart?**"
      ],
      "metadata": {
        "id": "GwzvFGzlYuh3"
      }
    },
    {
      "cell_type": "markdown",
      "source": [
        "**Answer Here**\n",
        "\n",
        "\n",
        "The typical duration of movies and TV shows that run for 50 to 150 minutes can change based on the particular content offered on Netflix."
      ],
      "metadata": {
        "id": "uyqkiB8YYuh3"
      }
    },
    {
      "cell_type": "markdown",
      "source": [
        "##### **3. Will the gained insights help creating a positive business impact?**\n",
        "**Are there any insights that lead to negative growth? Justify with specific reason.**"
      ],
      "metadata": {
        "id": "qYpmQ266Yuh3"
      }
    },
    {
      "cell_type": "markdown",
      "source": [
        "**Answer Here**\n",
        "\n",
        "**Catering to Different Tastes:** Netflix offers a mix of short and long movies and shows, so people with different preferences and schedules can enjoy what they like.\n",
        "\n",
        "**Keeping People Interested:** With shows and movies of different lengths, viewers can pick what suits their free time. This makes people watch more and for longer periods.\n",
        "\n",
        "**More Types of Stories:** By having a variety of movie and show lengths, Netflix can have a wider collection of content. This includes different kinds of stories and ways of telling them."
      ],
      "metadata": {
        "id": "_WtzZ_hCYuh4"
      }
    },
    {
      "cell_type": "markdown",
      "source": [
        "#### Chart - 6"
      ],
      "metadata": {
        "id": "OH-pJp9IphqM"
      }
    },
    {
      "cell_type": "code",
      "source": [
        "# Chart - 6 visualization code\n",
        "#Checking the distribution of TV SHOWS\n",
        "plt.figure(figsize=(20,8))\n",
        "plt.title(\"Distribution of TV Shows duration\",fontweight='bold')\n",
        "sns.countplot(x=tv_show['duration'],data=tv_show,order = tv_show['duration'].value_counts().index)"
      ],
      "metadata": {
        "id": "kuRf4wtuphqN"
      },
      "execution_count": null,
      "outputs": []
    },
    {
      "cell_type": "markdown",
      "source": [
        "##### **1. Why did you pick the specific chart?**"
      ],
      "metadata": {
        "id": "bbFf2-_FphqN"
      }
    },
    {
      "cell_type": "markdown",
      "source": [
        "**Answer Here.**\n",
        "\n",
        "The picture you're talking about is a countplot, which is like a bar chart. It helps us see how often different categories appear in a certain group. In this case, it's used to show how many times each TV show season appears, so we can understand how they're spread out."
      ],
      "metadata": {
        "id": "loh7H2nzphqN"
      }
    },
    {
      "cell_type": "markdown",
      "source": [
        "##### **2. What is/are the insight(s) found from the chart?**"
      ],
      "metadata": {
        "id": "_ouA3fa0phqN"
      }
    },
    {
      "cell_type": "markdown",
      "source": [
        "**Answer Here**\n",
        "\n",
        "Looking at the graph, we can see that most of the TV shows or web series in the data have just one season. The rest of the shows have at most two, three, four, or five seasons."
      ],
      "metadata": {
        "id": "VECbqPI7phqN"
      }
    },
    {
      "cell_type": "markdown",
      "source": [
        "##### **3. Will the gained insights help creating a positive business impact?**\n",
        "**Are there any insights that lead to negative growth? Justify with specific reason.**"
      ],
      "metadata": {
        "id": "Seke61FWphqN"
      }
    },
    {
      "cell_type": "markdown",
      "source": [
        "**Answer Here**\n",
        "\n",
        "Yes ,Positive Impact because by recognizing that the majority of TV shows have a limited number of seasons, content producers and streaming platforms can optimize their production planning. They can allocate resources more efficiently, reduce production costs, and potentially increase the output of content."
      ],
      "metadata": {
        "id": "DW4_bGpfphqN"
      }
    },
    {
      "cell_type": "markdown",
      "source": [
        "#### Chart - 7"
      ],
      "metadata": {
        "id": "PIIx-8_IphqN"
      }
    },
    {
      "cell_type": "code",
      "source": [
        "# Chart - 7 visualization code\n",
        "movie['originals'] = np.where(movie['release_year'] == movie['year_added'], 'Yes', 'No')\n",
        "# \"Imagine a chart in the shape of a pie that displays the proportions of two categories in movies: 'originals' and 'others'. This chart uses different slices to represent the percentage of each category.\"\n",
        "fig, ax = plt.subplots(figsize=(5,5),facecolor=\"#660066\")\n",
        "ax.patch.set_facecolor(\"#660066\")\n",
        "explode = (0, 0.1)\n",
        "ax.pie(movie['originals'].value_counts(), explode=explode, autopct='%.2f%%', labels= ['Others', 'Originals'],\n",
        "       shadow=True, startangle=90,textprops={'color':\"blue\", 'fontsize': 25}, colors =['red','#F5E9F5'])"
      ],
      "metadata": {
        "id": "lqAIGUfyphqO"
      },
      "execution_count": null,
      "outputs": []
    },
    {
      "cell_type": "code",
      "source": [],
      "metadata": {
        "id": "I0O67odn1ZAq"
      },
      "execution_count": null,
      "outputs": []
    },
    {
      "cell_type": "markdown",
      "source": [
        "##### **1. Why did you pick the specific chart?**"
      ],
      "metadata": {
        "id": "t27r6nlMphqO"
      }
    },
    {
      "cell_type": "markdown",
      "source": [
        "**Answer Here.**\n",
        "\n",
        "The pie chart is a good option for showing how different groups of things are divided up. For example, it's helpful for seeing how much of the whole is taken up by categories like \"originals\" and \"others.\" It lets you easily compare the sizes of these categories compared to the whole picture."
      ],
      "metadata": {
        "id": "iv6ro40sphqO"
      }
    },
    {
      "cell_type": "markdown",
      "source": [
        "##### **2. What is/are the insight(s) found from the chart?**"
      ],
      "metadata": {
        "id": "r2jJGEOYphqO"
      }
    },
    {
      "cell_type": "markdown",
      "source": [
        "**Answer Here**\n",
        "\n",
        "From all the movies you can watch on Netflix, about 30% of them were made by Netflix themselves. The other 70% are movies that came out before and were shown through various ways, but later got added to Netflix."
      ],
      "metadata": {
        "id": "Po6ZPi4hphqO"
      }
    },
    {
      "cell_type": "markdown",
      "source": [
        "##### **3. Will the gained insights help creating a positive business impact?**\n",
        "**Are there any insights that lead to negative growth? Justify with specific reason.**"
      ],
      "metadata": {
        "id": "b0JNsNcRphqO"
      }
    },
    {
      "cell_type": "markdown",
      "source": [
        "**Answer Here**\n",
        "\n",
        "Certainly! Getting valuable information can really make a good difference for a business. When we look at how movies are spread out on Netflix, like figuring out how many are made by Netflix itself and how many aren't, Netflix can then make smart choices about what movies to get and make. This helps them improve their service and the shows they create."
      ],
      "metadata": {
        "id": "xvSq8iUTphqO"
      }
    },
    {
      "cell_type": "markdown",
      "source": [
        "#### Chart - 8"
      ],
      "metadata": {
        "id": "BZR9WyysphqO"
      }
    },
    {
      "cell_type": "code",
      "source": [
        "# Chart - 8 visualization code\n",
        "netflix_movies1['cast']"
      ],
      "metadata": {
        "id": "TdPTWpAVphqO"
      },
      "execution_count": null,
      "outputs": []
    },
    {
      "cell_type": "code",
      "source": [
        "#seperating actors from cast column\n",
        "cast = netflix_movies1['cast'].str.split(', ', expand=True).stack()\n",
        "\n",
        "# top actors name who play highest role in movie/show.\n",
        "cast.value_counts()"
      ],
      "metadata": {
        "id": "x_7rErqN7NwH"
      },
      "execution_count": null,
      "outputs": []
    },
    {
      "cell_type": "code",
      "source": [
        "cast =cast[cast != 'No cast']"
      ],
      "metadata": {
        "id": "x_fPXcRZ7W_O"
      },
      "execution_count": null,
      "outputs": []
    },
    {
      "cell_type": "code",
      "source": [
        "cast.value_counts()"
      ],
      "metadata": {
        "id": "N6bPsCv77al6"
      },
      "execution_count": null,
      "outputs": []
    },
    {
      "cell_type": "code",
      "source": [
        "fig,ax = plt.subplots(1,2, figsize=(14,5))\n",
        "# Make a list that shows TV show actors separately from the cast column.\n",
        "top_TVshows_actor = netflix_movies1[netflix_movies1['type']=='TV Show']['cast'].str.split(', ', expand=True).stack()\n",
        "top_TVshows_actor =top_TVshows_actor[top_TVshows_actor != 'No cast']\n",
        "# Depicting the actor who has shown up in the greatest count of TV shows.\n",
        "a = top_TVshows_actor.value_counts().head(10).plot(kind='barh', ax=ax[0],color='red')\n",
        "a.set_title('Top 10 TV shows actors', size=15)\n",
        "\n",
        "# seperating movie actor from cast column\n",
        "top_movie_actor = netflix_movies1[netflix_movies1['type']=='Movie']['cast'].str.split(', ', expand=True).stack()\n",
        "top_movie_actor =top_movie_actor[top_movie_actor != 'No cast']\n",
        "# Creating a graph to show the actor who has been in the most movies.\"\n",
        "b = top_movie_actor.value_counts().head(10).plot(kind='barh', ax=ax[1],color='Cyan')\n",
        "b.set_title('Top 10 Movie actors', size=15)\n",
        "\n",
        "plt.tight_layout(pad=1.2, rect=[0, 0, 0.95, 0.95])"
      ],
      "metadata": {
        "id": "gLFl4Ruh7igX"
      },
      "execution_count": null,
      "outputs": []
    },
    {
      "cell_type": "markdown",
      "source": [
        "##### **1. Why did you pick the specific chart?**"
      ],
      "metadata": {
        "id": "jj7wYXLtphqO"
      }
    },
    {
      "cell_type": "markdown",
      "source": [
        "**Answer Here.**\n",
        "\n",
        "The bars are laid out horizontally so you can read and compare the values more easily. Each bar's length shows how many TV shows or movies an actor was in. The chart has names and is split into two parts. One part is for TV shows and the other is for movies. This setup makes it clear which is which."
      ],
      "metadata": {
        "id": "Ob8u6rCTphqO"
      }
    },
    {
      "cell_type": "markdown",
      "source": [
        "##### **2. What is/are the insight(s) found from the chart?**"
      ],
      "metadata": {
        "id": "eZrbJ2SmphqO"
      }
    },
    {
      "cell_type": "markdown",
      "source": [
        "**Answer Here**\n",
        "\n",
        "In TV shows, the actor who has appeared the most is Takahiro Sakurai. In the movies section, the actor with the most appearances is Anupam Kher."
      ],
      "metadata": {
        "id": "mZtgC_hjphqO"
      }
    },
    {
      "cell_type": "markdown",
      "source": [
        "#### Chart - 9"
      ],
      "metadata": {
        "id": "YJ55k-q6phqO"
      }
    },
    {
      "cell_type": "code",
      "source": [
        "# Chart - 9 visualization code\n",
        "# Chart - 8 visualization code\n",
        "top_10_Genre = netflix_movies1['listed_in'].value_counts().head(10)\n",
        "\n",
        "fig2 = px.pie(top_10_Genre, values=top_10_Genre.values, names=top_10_Genre.index)\n",
        "\n",
        "custom_colors = ['#4c78a8', '#72b7b2', '#ff7f0e', '#2ca02c', '#d62728']\n",
        "fig2.update_traces(hovertemplate=None, textposition='outside', textinfo='percent+label', rotation=0,\n",
        "                   marker=dict(colors=custom_colors))\n",
        "\n",
        "fig2.update_layout(height=600, width=900, title='Top 10 genres on Netflix',\n",
        "                   margin=dict(t=100, b=30, l=0, r=0),\n",
        "                   showlegend=False,\n",
        "                   plot_bgcolor='#fafafa',\n",
        "                   paper_bgcolor='#fafafa',\n",
        "                   title_font=dict(size=20, color='#555', family=\"Lato, sans-serif\"),\n",
        "                   font=dict(size=12, color='#FF0000'),\n",
        "                   hoverlabel=dict(bgcolor=\"#444\", font_size=13, font_family=\"Lato, sans-serif\"))\n",
        "\n",
        "fig2.show()\n",
        "\n"
      ],
      "metadata": {
        "id": "B2aS4O1ophqO"
      },
      "execution_count": null,
      "outputs": []
    },
    {
      "cell_type": "markdown",
      "source": [
        "##### **1. Why did you pick the specific chart?**"
      ],
      "metadata": {
        "id": "gCFgpxoyphqP"
      }
    },
    {
      "cell_type": "markdown",
      "source": [
        "**Answer Here.**\n",
        "\n",
        "The round design of the pie chart lets you easily see how big each genre is by looking at the sizes of the sections. The labels and percentages shown outside the sections give more details and make it even easier to understand the chart."
      ],
      "metadata": {
        "id": "TVxDimi2phqP"
      }
    },
    {
      "cell_type": "markdown",
      "source": [
        "##### **2. What is/are the insight(s) found from the chart?**"
      ],
      "metadata": {
        "id": "OVtJsKN_phqQ"
      }
    },
    {
      "cell_type": "markdown",
      "source": [
        "**Answer Here**\n",
        "\n",
        "Look at this chart. It shows the most popular types of shows and movies on Netflix. The top three are:\n",
        "\n",
        "Documentaries: 14.4%\n",
        "\n",
        "Stand-up Comedy: 13.9%\n",
        "\n",
        "Drama and International Movies: 13.8%\n",
        "\n",
        "These three types have the biggest numbers compared to the other types in the top 10 list."
      ],
      "metadata": {
        "id": "ngGi97qjphqQ"
      }
    },
    {
      "cell_type": "markdown",
      "source": [
        "##### **3. Will the gained insights help creating a positive business impact?**\n",
        "**Are there any insights that lead to negative growth? Justify with specific reason.**"
      ],
      "metadata": {
        "id": "lssrdh5qphqQ"
      }
    },
    {
      "cell_type": "markdown",
      "source": [
        "**Answer Here**\n",
        "\n",
        "\n",
        "Analyzing the different types of categories available on Netflix can provide valuable insights that could benefit the business in various ways:\n",
        "\n",
        "**1- Selecting Content:** By paying attention to genres that are popular among viewers, Netflix can make sure to offer a wide variety of movies and shows that are interesting to its subscribers.\n",
        "\n",
        "**2- Choosing What to Make or Buy:** This analysis can help Netflix figure out which genres are in high demand and have a dedicated audience. This way, they can make smarter decisions about what content to create or purchase, maximizing their investments.\n",
        "\n",
        "**3- Personalized Suggestions:** Tailoring recommendations for individual users can enhance their overall enjoyment and nudge them to spend more time on the platform. This can enhance the user experience and encourage greater engagement."
      ],
      "metadata": {
        "id": "tBpY5ekJphqQ"
      }
    },
    {
      "cell_type": "markdown",
      "source": [
        "#### Chart - 10"
      ],
      "metadata": {
        "id": "U2RJ9gkRphqQ"
      }
    },
    {
      "cell_type": "code",
      "source": [
        "# Chart - 10 visualization code\n",
        "# Make a smaller group from the dataset containing only the information you need.\n",
        "conuntryVSgenre = netflix_movies1[['country', 'listed_in']]\n",
        "\n",
        "# Create a function to seperate all genres and store counts for each.\n",
        "def country_wise_genre(country):\n",
        "  country_genre = conuntryVSgenre[conuntryVSgenre['country'] == country]\n",
        "  #Next, the function joins all the genre strings together into a single long string using the \", \".join()\n",
        "  # method and then splits the long string into a list of individual genre strings using the split() method with \", \" as the separator.\n",
        "  country_genre = \", \".join(country_genre['listed_in'].dropna()).split(\", \")\n",
        "  country_genre_dict = dict(Counter(country_genre))\n",
        "  return country_genre_dict"
      ],
      "metadata": {
        "id": "GM7a4YP4phqQ"
      },
      "execution_count": null,
      "outputs": []
    },
    {
      "cell_type": "code",
      "source": [
        "conuntryVSgenre"
      ],
      "metadata": {
        "id": "kgkI-Uod_0pS"
      },
      "execution_count": null,
      "outputs": []
    },
    {
      "cell_type": "code",
      "source": [
        "## Create a list of the best ten countries.\"\n",
        "country_list = ['United States', 'India', 'United Kingdom', 'Canada', 'Japan', 'France', 'South Korea', 'Spain', 'Mexico', 'Australia']\n",
        "# Make a blank dictionary to keep track of the values belonging to different genres in each country.y.\n",
        "country_wise_genre_dict = {}\n",
        "# Iterate through all values in country_list.\n",
        "for i in country_list:\n",
        "  genre_data = country_wise_genre(i)\n",
        "  country_wise_genre_dict[i] = genre_data\n",
        "  country_genre_count_df = pd.DataFrame(country_wise_genre_dict).reset_index()\n",
        "  country_genre_count_df.rename({'index':'Genre'}, inplace=True, axis=1)\n",
        "country_list = ['United States', 'India', 'United Kingdom', 'Canada', 'Japan', 'France', 'South Korea', 'Spain', 'Mexico', 'Australia']\n",
        "# Create an empty dict to store values of each genre for each country.\n",
        "country_wise_genre_dict = {}\n",
        "# Iterate through all values in country_list.\n",
        "for i in country_list:\n",
        "  genre_data = country_wise_genre(i)\n",
        "  country_wise_genre_dict[i] = genre_data\n",
        "  country_genre_count_df = pd.DataFrame(country_wise_genre_dict).reset_index()\n",
        "  country_genre_count_df.rename({'index':'Genre'}, inplace=True, axis=1)"
      ],
      "metadata": {
        "id": "cvR5EI0h_4NC"
      },
      "execution_count": null,
      "outputs": []
    },
    {
      "cell_type": "code",
      "source": [
        "country_genre_count_df"
      ],
      "metadata": {
        "id": "J6P7PXbLAqin"
      },
      "execution_count": null,
      "outputs": []
    },
    {
      "cell_type": "code",
      "source": [
        "# Create a visual representation of the information shown in the data above.\n",
        "df = country_genre_count_df\n",
        "\n",
        "# Specify the colors that should be used.\n",
        "colors = ['aliceblue', 'brown', 'crimson', 'cyan', 'darkblue', 'darkmagenta', 'darkolivegreen', 'darkorange', 'darkturquoise', 'darkviolet', 'deeppink', 'forestgreen',\n",
        "          'fuchsia', 'gainsboro', 'goldenrod', 'gray','maroon', 'mediumaquamarine', 'mediumvioletred', 'midnightblue', 'orchid', 'palegoldenrod', 'palegreen', 'paleturquoise',\n",
        "          'plum', 'powderblue', 'purple', 'red', 'rosybrown', 'royalblue', 'saddlebrown', 'salmon', 'sandybrown','seagreen', 'seashell', 'sienna', 'silver', 'slategray', 'snow',\n",
        "          'springgreen', 'tomato','yellow', 'yellowgreen', 'darkred', 'lavender', 'lightcoral', 'navy', 'olive', 'teal', 'turquoise']\n",
        "\n",
        "\n",
        "# Create subplots, using 'domain' type for pie charts\n",
        "specs = [[{'type':'domain'}, {'type':'domain'}, {'type':'domain'}, {'type':'domain'}, {'type':'domain'}], [{'type':'domain'}, {'type':'domain'}, {'type':'domain'}, {'type':'domain'}, {'type':'domain'}]]\n",
        "fig = make_subplots(rows=2, cols=5, specs=specs, subplot_titles=['United States', 'India', 'United Kingdom', 'Canada', 'Japan', 'France', 'South Korea', 'Spain', 'Mexico', 'Australia'])\n",
        "\n",
        "# Define traces.\n",
        "fig.add_trace(go.Pie(labels=df['Genre'], values=df['United States'], name='United States'),1,1)\n",
        "fig.add_trace(go.Pie(labels=df['Genre'], values=df['India'],  name='India'),1,2)\n",
        "fig.add_trace(go.Pie(labels=df['Genre'], values=df['United Kingdom'],  name='United Kingdom'),1,3)\n",
        "fig.add_trace(go.Pie(labels=df['Genre'], values=df['Canada'],  name='Canada'),1,4)\n",
        "fig.add_trace(go.Pie(labels=df['Genre'], values=df['Japan'],  name='Japan'),1,5)\n",
        "fig.add_trace(go.Pie(labels=df['Genre'], values=df['France'],  name='France'),2,1)\n",
        "fig.add_trace(go.Pie(labels=df['Genre'], values=df['South Korea'],  name='South Korea'),2,2)\n",
        "fig.add_trace(go.Pie(labels=df['Genre'], values=df['Spain'],  name='Spain'),2,3)\n",
        "fig.add_trace(go.Pie(labels=df['Genre'], values=df['Mexico'],  name='Mexico'),2,4)\n",
        "fig.add_trace(go.Pie(labels=df['Genre'], values=df['Australia'],  name='Australia'),2,5)\n",
        "\n",
        "# djust the design and information that appears when you move your cursor over something.\n",
        "fig.update_traces(hoverinfo='label+percent+name', textinfo='none', marker=dict(colors=colors))\n",
        "fig.update_layout(title={'text': 'Top ten countries and the content they provide.',\n",
        "                          'y':0.97,\n",
        "                          'x':0.5,\n",
        "                          'font_size':25,\n",
        "                          'xanchor': 'center',\n",
        "                          'yanchor': 'top'},height=650, width=1550,paper_bgcolor='white',\n",
        "                  legend=dict(x=0.099,orientation=\"h\")\n",
        "                          )\n",
        "fig = go.Figure(fig)\n",
        "# fig.show()\n",
        "fig.show()\n",
        "\n"
      ],
      "metadata": {
        "id": "HxF0UPxEA9UN"
      },
      "execution_count": null,
      "outputs": []
    },
    {
      "cell_type": "markdown",
      "source": [
        "##### **1. Why did you pick the specific chart?**"
      ],
      "metadata": {
        "id": "1M8mcRywphqQ"
      }
    },
    {
      "cell_type": "markdown",
      "source": [
        "**Answer Here.**\n",
        "\n",
        "This is great for displaying how various types of entertainment are spread out in many countries. Imagine each country as a pie chart, and the different entertainment types are the slices of the pie. The size of each slice shows how much of that type of entertainment a country has. This makes it simple to compare how entertainment types differ between countries, all in a really nice-looking way."
      ],
      "metadata": {
        "id": "8agQvks0phqQ"
      }
    },
    {
      "cell_type": "markdown",
      "source": [
        "##### **2. What is/are the insight(s) found from the chart?**"
      ],
      "metadata": {
        "id": "tgIPom80phqQ"
      }
    },
    {
      "cell_type": "markdown",
      "source": [
        "**Answer Here**\n",
        "\n",
        "Action & Adventure as well as Dramas stand out as the most common types of movies and shows in nearly all countries. They are really popular since they have the highest levels in most nations. In the United States, there's a wide range of content available in many different genres. They excel particularly in Action & Adventure, Dramas, Comedies, and Documentaries.\n",
        "\n",
        "In India, there's a big emphasis on Independent Movies and Dramas, but there aren't as many options in other genres.\n",
        "\n",
        "The United Kingdom has a nice mix of Drama, International TV Shows, and Documentaries.\n",
        "\n",
        "Australia provides a variety of content, with genres like Dramas, Comedies, International TV Shows, and Documentaries being quite evenly represented."
      ],
      "metadata": {
        "id": "Qp13pnNzphqQ"
      }
    },
    {
      "cell_type": "markdown",
      "source": [
        "##### **3. Will the gained insights help creating a positive business impact?**\n",
        "**Are there any insights that lead to negative growth? Justify with specific reason.**"
      ],
      "metadata": {
        "id": "JMzcOPDDphqR"
      }
    },
    {
      "cell_type": "markdown",
      "source": [
        "**Answer Here**\n",
        "\n",
        "The gained insights can potentially help create a positive business impact in the following ways:\n",
        "\n",
        "1-Targeted Content Strategy: By understanding the genre preferences in different countries, businesses can develop a targeted content strategy that aligns with the interests of their target audience.\n",
        "\n",
        "2-Market Expansion:The insights can help businesses identify countries where their content genres are highly popular. This knowledge can guide expansion plans and investment in those markets, increasing the chances of success and profitability.\n",
        "\n",
        "3-Content Localization: Understanding the genre preferences in different countries can aid in content localization efforts. Adapting content to suit the local preferences can increase its appeal and viewership, potentially leading to business growth."
      ],
      "metadata": {
        "id": "R4Ka1PC2phqR"
      }
    },
    {
      "cell_type": "markdown",
      "source": [
        "#### Chart - 11"
      ],
      "metadata": {
        "id": "x-EpHcCOp1ci"
      }
    },
    {
      "cell_type": "code",
      "source": [
        "# Chart - 11 visualization code\n",
        "# number of unique values\n",
        "netflix_movies1['release_year'].nunique()\n"
      ],
      "metadata": {
        "id": "mAQTIvtqp1cj"
      },
      "execution_count": null,
      "outputs": []
    },
    {
      "cell_type": "code",
      "source": [
        "print(f'Oldest release year : {netflix_movies1.release_year.min()}')\n",
        "print(f'Latest release year : {netflix_movies1.release_year.max()}')\n"
      ],
      "metadata": {
        "id": "YqUE659EE9_1"
      },
      "execution_count": null,
      "outputs": []
    },
    {
      "cell_type": "code",
      "source": [
        "fig,ax = plt.subplots(1,2, figsize=(15,6))\n",
        "\n",
        "# Univariate analysis\n",
        "hist = sns.distplot(netflix_movies1['release_year'], ax=ax[0], kde=False,color='green')\n",
        "hist.set_title('Distribution by released year', size=20)\n",
        "\n",
        "# Bivariate analysis\n",
        "count = sns.countplot(x=\"release_year\", hue='type', data=netflix_movies1, order=netflix_movies1['release_year'].value_counts().index[0:15], ax=ax[1])\n",
        "count.set_title('Movie/TV shows released in top 15 year', size=15)\n",
        "plt.xticks(rotation=90)\n",
        "\n",
        "plt.tight_layout()\n",
        "plt.show()\n"
      ],
      "metadata": {
        "id": "6rQFKYkbFBt0"
      },
      "execution_count": null,
      "outputs": []
    },
    {
      "cell_type": "markdown",
      "source": [
        "##### **1. Why did you pick the specific chart?**"
      ],
      "metadata": {
        "id": "X_VqEhTip1ck"
      }
    },
    {
      "cell_type": "markdown",
      "source": [
        "**Answer Here.**\n",
        "\n",
        "They picked a special type of chart that shows two things at once: a histogram and a grouped bar plot. This helps them look at one thing and two things together. The histogram shows how many movies were released each year. The grouped bar plot lets them compare the number of movies and TV shows in the top 15 years."
      ],
      "metadata": {
        "id": "-vsMzt_np1ck"
      }
    },
    {
      "cell_type": "markdown",
      "source": [
        "##### **2. What is/are the insight(s) found from the chart?**"
      ],
      "metadata": {
        "id": "8zGJKyg5p1ck"
      }
    },
    {
      "cell_type": "markdown",
      "source": [
        "**Answer Here**\n",
        "\n",
        "The histogram displays how the years when movies were released on Netflix are spread out. It's clear that movies started to appear on Netflix around 1980. The number of movies being added gradually increased, but it really picked up speed after the year 2000. The biggest bunch of releases happened between 2010 and 2020, showing that many movies and TV shows were added during that time.\n",
        "\n",
        "Looking at the types of content (Movies or TV shows), the bar graph shows that the years 2017 and 2020 had the highest activity. During these years, a lot of movies, TV shows, and a mix of both were released on Netflix."
      ],
      "metadata": {
        "id": "ZYdMsrqVp1ck"
      }
    },
    {
      "cell_type": "markdown",
      "source": [
        "#####**3. Will the gained insights help creating a positive business impact?**\n",
        "**Are there any insights that lead to negative growth? Justify with specific reason.**"
      ],
      "metadata": {
        "id": "PVzmfK_Ep1ck"
      }
    },
    {
      "cell_type": "markdown",
      "source": [
        "**Answer Here**\n",
        "\n",
        "the knowledge we acquire can make a good difference for businesses. When we grasp how different years' releases are spread out and spot patterns, companies can smartly choose what content to get, how to create it, and how to promote it."
      ],
      "metadata": {
        "id": "druuKYZpp1ck"
      }
    },
    {
      "cell_type": "markdown",
      "source": [
        "#### Chart - 12"
      ],
      "metadata": {
        "id": "n3dbpmDWp1ck"
      }
    },
    {
      "cell_type": "code",
      "source": [
        "# Chart - 12 visualization code\n",
        "#Ratings\n",
        "# number of unique values\n",
        "netflix_movies1.rating.nunique()"
      ],
      "metadata": {
        "id": "bwevp1tKp1ck"
      },
      "execution_count": null,
      "outputs": []
    },
    {
      "cell_type": "markdown",
      "source": [
        "**Variables Description- Rating**\n",
        "\n",
        "**TV-Y:** This rating is for little kids aged 2-6. It's safe and might teach things.\n",
        "\n",
        "**TV-Y7:*** For kids 7 and older. Can have a bit of action or scary stuff not good for younger kids.\n",
        "\n",
        "**TV-Y7-FV:** Like TV-Y7, but with more action that's like pretend fighting.\n",
        "\n",
        "**TV-G:** For everyone, even adults. Might have small bits of not-so-serious stuff.\n",
        "\n",
        "**TV-PG:** Parents should watch with kids. Could have things kids might not understand or that parents want to explain.\n",
        "\n",
        "**TV-14:** For kids 14 and older. Might have strong words, violence, or love stuff.\n",
        "\n",
        "**TV-MA:** Just for grown-ups. Can have really strong violence, sexy stuff, or bad language.\n",
        "\n",
        "**G:** For all, usually for young kids. Might be cartoons or family things.\n",
        "\n",
        "**PG:** Parents should watch with kids, but not too bad.\n",
        "\n",
        "**PG-13:** For teens 13 and up. Can have big action, words, or love things.\n",
        "\n",
        "**R:** Just for adults. Might have serious violence, bad words, or nakedness.\n",
        "\n",
        "**NC-17:** Only for grown-ups. Can have really sexy stuff or bad violence.\n",
        "\n",
        "**NR:** No rating yet or not rated by anyone."
      ],
      "metadata": {
        "id": "_UxkEhPiJUAa"
      }
    },
    {
      "cell_type": "code",
      "source": [
        "fig,ax = plt.subplots(1,2, figsize=(15,6))\n",
        "plt.suptitle('Top 10 rating for different age groups and audiences & Rating based on Movie and Tv_Shows',\n",
        "             weight='bold', y=1.02, size=18)\n",
        "\n",
        "# univariate analysis\n",
        "sns.countplot(x=\"rating\", data=netflix_movies1, order=netflix_movies1['rating'].value_counts().index[0:10], ax=ax[0])\n",
        "\n",
        "\n",
        "\n",
        "# bivariate analysis\n",
        "graph = sns.countplot(x=\"rating\", data=netflix_movies1, hue='type', order=netflix_movies1['rating'].value_counts().index[0:10], ax=ax[1])\n",
        "plt.xticks(rotation=90)\n",
        "\n",
        "plt.tight_layout()\n",
        "plt.show()"
      ],
      "metadata": {
        "id": "WEFqx5o-LHrm"
      },
      "execution_count": null,
      "outputs": []
    },
    {
      "cell_type": "markdown",
      "source": [
        "##### **1. Why did you pick the specific chart?**"
      ],
      "metadata": {
        "id": "ylSl6qgtp1ck"
      }
    },
    {
      "cell_type": "markdown",
      "source": [
        "**Answer Here.**\n",
        "\n",
        "The selected pair of charts made by combining two count plots lets us analyze data in two ways: looking at individual variables and looking at how two variables relate. The first chart helps us understand the highest 10 ratings across all types of content. Meanwhile, the second chart allows us to compare ratings between movies and TV shows."
      ],
      "metadata": {
        "id": "m2xqNkiQp1ck"
      }
    },
    {
      "cell_type": "markdown",
      "source": [
        "##### **2. What is/are the insight(s) found from the chart?**"
      ],
      "metadata": {
        "id": "ZWILFDl5p1ck"
      }
    },
    {
      "cell_type": "markdown",
      "source": [
        "**Answer Here**\n",
        "\n",
        "TV-MA: This rating indicates that the content is meant for grown-up viewers only. It might have scenes of strong violence, detailed sexual content, or intense language.\n",
        "\n",
        "When it comes to ratings, the most widespread one is TV-MA, which is used for both movies and TV shows."
      ],
      "metadata": {
        "id": "x-lUsV2mp1ck"
      }
    },
    {
      "cell_type": "markdown",
      "source": [
        "##### **3. Will the gained insights help creating a positive business impact?**\n",
        "**Are there any insights that lead to negative growth? Justify with specific reason.**"
      ],
      "metadata": {
        "id": "M7G43BXep1ck"
      }
    },
    {
      "cell_type": "markdown",
      "source": [
        "**Answer Here**\n",
        "\n",
        "Knowing that the TV-MA rating is the most frequent rating for both movies and TV shows can help shape plans for what to show, who to aim for, what to schedule, and how to create a variety of content. This can result in better business results, like more people watching and happier customers."
      ],
      "metadata": {
        "id": "5wwDJXsLp1cl"
      }
    },
    {
      "cell_type": "markdown",
      "source": [
        "#### Chart - 13"
      ],
      "metadata": {
        "id": "Ag9LCva-p1cl"
      }
    },
    {
      "cell_type": "code",
      "source": [
        "# Chart - 13 visualization code\n",
        "# Replace the null values in director.\n",
        "netflix_movies1['director']=netflix_movies1['director'].fillna('')"
      ],
      "metadata": {
        "id": "EUfxeq9-p1cl"
      },
      "execution_count": null,
      "outputs": []
    },
    {
      "cell_type": "code",
      "source": [
        " #Create a DataFrame with director counts\n",
        "directors_list = netflix_movies1.director.value_counts().reset_index().head(15)[1:]\n",
        "directors_list.rename(columns={'index':'Directors name', 'director':'Count'}, inplace=True)\n",
        "\n",
        "#Make a bar graph using Plotly.\n",
        "fig = px.bar(directors_list, x='Directors name', y='Count', text_auto=True)\n",
        "\n",
        "#Create a collection of 25 different color codes that are distinct using the seaborn library.\n",
        "color_palette = sns.color_palette('bright', n_colors=15).as_hex()\n",
        "fig.update_traces(marker_color=color_palette)\n",
        "\n",
        "# Add a title and adjust the layout\n",
        "fig.update_layout(\n",
        "    title={\n",
        "        'text': 'Top 25 directors with highest number of Movies and Tv Shows.',\n",
        "        'y': 0.95,\n",
        "        'x': 0.5,\n",
        "        'xanchor': 'center',\n",
        "        'yanchor': 'top'},\n",
        "    autosize=False,\n",
        "    width=1200,\n",
        "    height=500\n",
        ")\n",
        "\n",
        "# Show the plot\n",
        "fig.show()\n"
      ],
      "metadata": {
        "id": "z7OKPQQHPbU4"
      },
      "execution_count": null,
      "outputs": []
    },
    {
      "cell_type": "code",
      "source": [
        "from IPython.display import Image\n",
        "img_bytes = fig.to_image(format=\"png\", width=1400, height=800, scale=1)\n",
        "Image(img_bytes)"
      ],
      "metadata": {
        "id": "9UV_RXKzP5GE"
      },
      "execution_count": null,
      "outputs": []
    },
    {
      "cell_type": "code",
      "source": [
        "directors_list"
      ],
      "metadata": {
        "id": "YHVkanP9P9to"
      },
      "execution_count": null,
      "outputs": []
    },
    {
      "cell_type": "markdown",
      "source": [
        "##### **1. Why did you pick the specific chart?**"
      ],
      "metadata": {
        "id": "E6MkPsBcp1cl"
      }
    },
    {
      "cell_type": "markdown",
      "source": [
        "**Answer Here.**\n",
        "\n",
        "The chart that was picked effectively shows the information in a way that's easy to understand and looks nice. This helps people quickly see which directors have done the most work on Netflix."
      ],
      "metadata": {
        "id": "V22bRsFWp1cl"
      }
    },
    {
      "cell_type": "markdown",
      "source": [
        "##### **2. What is/are the insight(s) found from the chart?**"
      ],
      "metadata": {
        "id": "2cELzS2fp1cl"
      }
    },
    {
      "cell_type": "markdown",
      "source": [
        "**Answer Here**\n",
        "\n",
        "\n",
        "Raúl Campos and Jan Suter are the directors with the most Movies and TV shows available on Netflix. They have created a larger number of content compared to other directors"
      ],
      "metadata": {
        "id": "ozQPc2_Ip1cl"
      }
    },
    {
      "cell_type": "markdown",
      "source": [
        "#### Chart - 14 - Correlation Heatmap"
      ],
      "metadata": {
        "id": "NC_X3p0fY2L0"
      }
    },
    {
      "cell_type": "code",
      "source": [
        "# Correlation Heatmap visualization code\n",
        "#Categorizing the Ratings into Groups\n",
        "ratings = {\n",
        "    'TV-PG': 'Older Kids',\n",
        "    'TV-MA': 'Adults',\n",
        "    'TV-Y7-FV': 'Older Kids',\n",
        "    'TV-Y7': 'Older Kids',\n",
        "    'TV-14': 'Teens',\n",
        "    'R': 'Adults',\n",
        "    'TV-Y': 'Kids',\n",
        "    'NR': 'Adults',\n",
        "    'PG-13': 'Teens',\n",
        "    'TV-G': 'Kids',\n",
        "    'PG': 'Older Kids',\n",
        "    'G': 'Kids',\n",
        "    'UR': 'Adults',\n",
        "    'NC-17': 'Adults'\n",
        "}\n",
        "netflix_movies1['target_ages'] = netflix_movies1['rating'].replace(ratings)\n",
        "\n"
      ],
      "metadata": {
        "id": "xyC9zolEZNRQ"
      },
      "execution_count": null,
      "outputs": []
    },
    {
      "cell_type": "code",
      "source": [
        "# Preparing data for heatmap\n",
        "netflix_movies1['count'] = 1\n",
        "data = netflix_movies1.groupby('country')[['country','count']].sum().sort_values(by='count',ascending=False).reset_index()[:10]\n",
        "data = data['country']\n",
        "\n",
        "\n",
        "df_heatmap = netflix_movies1.loc[netflix_movies1['country'].isin(data)]\n",
        "df_heatmap = pd.crosstab(df_heatmap['country'],df_heatmap['target_ages'],normalize = \"index\").T\n",
        "df_heatmap\n"
      ],
      "metadata": {
        "id": "NFUyeWWBQ5EP"
      },
      "execution_count": null,
      "outputs": []
    },
    {
      "cell_type": "code",
      "source": [
        "fig, ax = plt.subplots(1, 1, figsize=(12, 12))\n",
        "\n",
        "country_order2 = ['United States', 'India', 'United Kingdom', 'Canada', 'Japan', 'France', 'South Korea', 'Spain', 'Mexico']\n",
        "age_order = ['Adults', 'Teens', 'Older Kids', 'Kids']\n",
        "\n",
        "sns.heatmap(data=df_heatmap.loc[age_order, country_order2],\n",
        "            cmap='YlGnBu',\n",
        "            square=True,\n",
        "            linewidth=2.5,\n",
        "            cbar=False,\n",
        "            annot=True,\n",
        "            fmt='1.0%',\n",
        "            vmax=.6,\n",
        "            vmin=0.05,\n",
        "            ax=ax,\n",
        "            annot_kws={\"fontsize\": 12})\n",
        "plt.show()\n",
        "\n"
      ],
      "metadata": {
        "id": "6d08UuRVQ-WF"
      },
      "execution_count": null,
      "outputs": []
    },
    {
      "cell_type": "markdown",
      "source": [
        "##### **1. Why did you pick the specific chart?**"
      ],
      "metadata": {
        "id": "UV0SzAkaZNRQ"
      }
    },
    {
      "cell_type": "markdown",
      "source": [
        "**Answer Here.**\n",
        "\n",
        "A heatmap works well when you want to show how two groups, like countries and age groups, are connected. It's great for clearly showing patterns, trends, and comparisons between these groups."
      ],
      "metadata": {
        "id": "DVPuT8LYZNRQ"
      }
    },
    {
      "cell_type": "markdown",
      "source": [
        "##### **2. What is/are the insight(s) found from the chart?**"
      ],
      "metadata": {
        "id": "YPEH6qLeZNRQ"
      }
    },
    {
      "cell_type": "markdown",
      "source": [
        "**Answer Here**\n",
        "\n",
        "In short, the data we have shows that people's interest in the topic differs between countries and age groups. Here's what we can conclude:\n",
        "\n",
        "Looking at the countries, Spain stands out with the most adults, about 84%, being interested in the topic. This suggests a strong interest among Spanish adults.\n",
        "\n",
        "**1.France-** France comes next, with 68% of adults showing interest. This indicates a significant engagement with the topic among French adults.\n",
        "\n",
        "**2.India-** In India, the highest percentage of interest comes from teenagers, with 57% showing interest. This points to a notable interest among young people in India.\n",
        "\n",
        "**3.United Kingdom -**The United Kingdom also has a decent level of interest among adults, with 51% expressing interest..\n",
        "\n",
        "**4.Mexico-** Mexico also demonstrates a high level of interest, with 77% of adults being interested in the topic.\n",
        "\n",
        "**5.South Korea , United States-**Both South Korea and the United States have 47% of adults interested, showing a moderate level of engagement.\n",
        "\n",
        "**6.Japan-** Japan shows moderate interest among both adults and teenagers, with 36% of each group expressing interest.\n",
        "\n",
        "**7.Canada-** Canada has the lowest interest percentage among the listed countries, with 45% of adults showing interest.\n",
        "\n",
        "**To sum up, these conclusions emphasize the different levels of interest in the topic among various countries and age groups. The data suggests that Spain, France, India, and Mexico have higher interest levels among adults, whereas Canada's interest is relatively lower compared to the other countries.**"
      ],
      "metadata": {
        "id": "bfSqtnDqZNRR"
      }
    },
    {
      "cell_type": "markdown",
      "source": [
        "# **Will the gained insights help creating a positive business impact?**"
      ],
      "metadata": {
        "id": "JxChtqgZYZ4G"
      }
    },
    {
      "cell_type": "markdown",
      "source": [
        "**Answer Here**\n",
        "\n",
        "The gained insights can potentially help in creating a positive business impact, depending on the context and specific business goals.\n",
        "\n",
        "1-Product Development\n",
        "\n",
        "2-Market Expansion\n",
        "\n",
        "3-Partnerships and Collaborations"
      ],
      "metadata": {
        "id": "MOkUpSJ7Yhw8"
      }
    },
    {
      "cell_type": "markdown",
      "source": [
        "#### Chart - 15 - **Correlation Heatmap**"
      ],
      "metadata": {
        "id": "q29F0dvdveiT"
      }
    },
    {
      "cell_type": "code",
      "source": [
        "netflix_movies1['count'] = 1\n",
        "data1 = netflix_movies1.groupby('listed_in')[['listed_in', 'count']].sum().sort_values(by='count', ascending=False).reset_index()[:10]\n",
        "data1 = data1['listed_in']"
      ],
      "metadata": {
        "id": "o58-TEIhveiU"
      },
      "execution_count": null,
      "outputs": []
    },
    {
      "cell_type": "code",
      "source": [
        "data1"
      ],
      "metadata": {
        "id": "HcK26NzhZAdr"
      },
      "execution_count": null,
      "outputs": []
    },
    {
      "cell_type": "code",
      "source": [
        "df_heatmap1 = netflix_movies1.loc[netflix_movies1['listed_in'].isin(data1)]\n",
        "df_heatmap1 = pd.crosstab(df_heatmap1['listed_in'],df_heatmap1['target_ages'],normalize = \"index\").T\n",
        "df_heatmap1\n"
      ],
      "metadata": {
        "id": "zDkwpZvBZEeM"
      },
      "execution_count": null,
      "outputs": []
    },
    {
      "cell_type": "code",
      "source": [
        "fig, ax = plt.subplots(1, 1, figsize=(12, 12))\n",
        "\n",
        "top=['Documentaries', 'Stand-Up Comedy', 'Dramas, International Movies',\n",
        "       'Comedies, Dramas, International Movies',\n",
        "       'Dramas, Independent Movies, International Movies', \"Kids' TV\",\n",
        "       'Children & Family Movies', 'Documentaries, International Movies',\n",
        "       'Children & Family Movies, Comedies',\n",
        "       'Comedies, International Movies']\n",
        "age_order = ['Adults', 'Teens', 'Older Kids', 'Kids']\n",
        "\n",
        "sns.heatmap(data=df_heatmap1.loc[age_order, top],\n",
        "            cmap='YlGnBu',\n",
        "            square=True,\n",
        "            linewidth=2.5,\n",
        "            cbar=False,\n",
        "            annot=True,\n",
        "            fmt='1.0%',\n",
        "            vmax=.6,\n",
        "            vmin=0.05,\n",
        "            ax=ax,\n",
        "            annot_kws={\"fontsize\": 12})\n",
        "plt.show()\n",
        "\n"
      ],
      "metadata": {
        "id": "b9VH3H7vZNzN"
      },
      "execution_count": null,
      "outputs": []
    },
    {
      "cell_type": "markdown",
      "source": [
        "##### **1. Why did you pick the specific chart?**\n",
        "\n",
        "\n",
        "\n"
      ],
      "metadata": {
        "id": "EXh0U9oCveiU"
      }
    },
    {
      "cell_type": "markdown",
      "source": [
        "**Answer Here.**\n",
        "\n",
        "Using a heatmap works well in this situation because it lets me show the information using different colors. How dark or light a color is shows how often certain types of movies appear in different age groups."
      ],
      "metadata": {
        "id": "eMmPjTByveiU"
      }
    },
    {
      "cell_type": "markdown",
      "source": [
        "##### **2. What is/are the insight(s) found from the chart?**"
      ],
      "metadata": {
        "id": "22aHeOlLveiV"
      }
    },
    {
      "cell_type": "markdown",
      "source": [
        "**Answer Here**\n",
        "\n",
        "Most adults, about 89%, enjoy stand-up comedy the most out of all the types of entertainment.\n",
        "\n",
        "Many people, around 82%, like to watch movies that are made for both children and families, as well as comedies.\n",
        "\n",
        "Shows made for older kids and adults are the main focus, and they are liked by about 66% to 53% of the audience."
      ],
      "metadata": {
        "id": "uPQ8RGwHveiV"
      }
    },
    {
      "cell_type": "markdown",
      "source": [
        "# **Chart - 16**"
      ],
      "metadata": {
        "id": "uNaUENRUbeiB"
      }
    },
    {
      "cell_type": "code",
      "source": [
        "country_count=netflix_movies1['country'].value_counts().sort_values(ascending=False)\n",
        "country_count=pd.DataFrame(country_count)\n",
        "topcountries=country_count[0:11]\n",
        "topcountries"
      ],
      "metadata": {
        "id": "VBPJApQMbkBY"
      },
      "execution_count": null,
      "outputs": []
    },
    {
      "cell_type": "code",
      "source": [
        "data3 = dict(\n",
        "    number=[3062, 923, 397, 226, 183, 177, 134, 115, 101, 100],\n",
        "    country=[\"United States\", \"India\", \"United Kingdom\", \"Canada\", \"Spain\", 'Turkey', 'Philippines', 'France',\n",
        "             'South Korea', 'Australia']\n",
        ")\n",
        "\n",
        "fig = px.funnel(data3,\n",
        "                x='number',\n",
        "                y='country',\n",
        "                title='Funnel Chart- Top 10 Countries by Number of Movies',\n",
        "                labels={'number': 'Number of Movies', 'country': 'Country'},\n",
        "                color_discrete_sequence=px.colors.qualitative.Plotly,\n",
        "                height=1000,\n",
        "                width=900,\n",
        "                template='plotly_dark'\n",
        "                )\n",
        "fig.show()"
      ],
      "metadata": {
        "id": "Snhhz0b7bolz"
      },
      "execution_count": null,
      "outputs": []
    },
    {
      "cell_type": "markdown",
      "source": [
        "**1.Why did you pick the specific chart?**"
      ],
      "metadata": {
        "id": "fHQU9YC9bvsE"
      }
    },
    {
      "cell_type": "markdown",
      "source": [
        "**Answer Here.**\n",
        "\n",
        "Funnel charts are like visual tools used to show how data decreases step by step in different groups or stages. In this situation, the chart helps you see the number of movies in the top 10 countries, and it's designed to show how the count gets smaller as you go from the highest to the lowest."
      ],
      "metadata": {
        "id": "qo3CAjWvb0yr"
      }
    },
    {
      "cell_type": "markdown",
      "source": [
        "**2.What is/are the insight(s) found from the chart?**"
      ],
      "metadata": {
        "id": "RmNBiNf7cDWV"
      }
    },
    {
      "cell_type": "markdown",
      "source": [
        "**Answer Here.**\n",
        "\n",
        "The United States makes the most movies, a whopping 3062 of them. This shows that the U.S. is really powerful in the movie world. India comes next, making 923 movies. This means India is also really important in the worldwide movies and TV shows business."
      ],
      "metadata": {
        "id": "px1ZMipScIrI"
      }
    },
    {
      "cell_type": "markdown",
      "source": [
        "**3.Will the gained insights help creating a positive business impact?**"
      ],
      "metadata": {
        "id": "DQpaoHM8cxAA"
      }
    },
    {
      "cell_type": "markdown",
      "source": [
        "**Answer Here.**\n",
        "\n",
        "Yes, the information we've learned can make a good difference for businesses in a few ways:\n",
        "\n",
        "1.Finding the Right People: Businesses that need talented people for jobs like making movies, writing, acting, or technical work can use this information to find and hire the right individuals.\n",
        "\n",
        "2.Reaching More Places: The insights show us which countries make a lot of movies, like the United States and India. This helps businesses know where to expand, sell their movies, advertise, and work with others."
      ],
      "metadata": {
        "id": "wxHOUzf2c3p7"
      }
    },
    {
      "cell_type": "markdown",
      "source": [
        "## ***5. Hypothesis Testing***"
      ],
      "metadata": {
        "id": "g-ATYxFrGrvw"
      }
    },
    {
      "cell_type": "code",
      "source": [
        "#making copy of df_clean_frame\n",
        "netflix_hypothesis=netflix_movies1.copy()\n",
        "#head of df_hypothesis\n",
        "netflix_hypothesis.head()"
      ],
      "metadata": {
        "id": "Gs2RIxN1dq-q"
      },
      "execution_count": null,
      "outputs": []
    },
    {
      "cell_type": "code",
      "source": [
        "#\"Finding movies by filtering from the 'Type_of_show' column.\"\n",
        "netflix_hypothesis = netflix_hypothesis[netflix_hypothesis[\"type\"] == \"Movie\"]\n"
      ],
      "metadata": {
        "id": "Q-z4zK1SduSL"
      },
      "execution_count": null,
      "outputs": []
    },
    {
      "cell_type": "code",
      "source": [
        "#Organizing items based on their ratings and categorizing them accordingly.\n",
        "ratings_ages = {\n",
        "    'TV-PG': 'Older Kids',\n",
        "    'TV-MA': 'Adults',\n",
        "    'TV-Y7-FV': 'Older Kids',\n",
        "    'TV-Y7': 'Older Kids',\n",
        "    'TV-14': 'Teens',\n",
        "    'R': 'Adults',\n",
        "    'TV-Y': 'Kids',\n",
        "    'NR': 'Adults',\n",
        "    'PG-13': 'Teens',\n",
        "    'TV-G': 'Kids',\n",
        "    'PG': 'Older Kids',\n",
        "    'G': 'Kids',\n",
        "    'UR': 'Adults',\n",
        "    'NC-17': 'Adults'\n",
        "}\n",
        "\n",
        "netflix_hypothesis['target_ages'] = netflix_hypothesis['rating'].replace(ratings_ages)\n",
        "#let's see unique target ages\n",
        "netflix_hypothesis['target_ages'].unique()\n"
      ],
      "metadata": {
        "id": "-8W4rOowd8ex"
      },
      "execution_count": null,
      "outputs": []
    },
    {
      "cell_type": "code",
      "source": [
        "netflix_hypothesis['target_ages'] = pd.Categorical(netflix_hypothesis['target_ages'], categories=['Kids', 'Older Kids', 'Teens', 'Adults'])\n",
        "\n",
        "netflix_hypothesis['duration'] = netflix_hypothesis['duration'].astype(str)  # Convert to string type\n",
        "netflix_hypothesis['duration'] = netflix_hypothesis['duration'].str.extract('(\\d+)')\n",
        "netflix_hypothesis['duration'] = pd.to_numeric(netflix_hypothesis['duration'])\n",
        "\n",
        "netflix_hypothesis.head(3)"
      ],
      "metadata": {
        "id": "kWTJiin6eGH0"
      },
      "execution_count": null,
      "outputs": []
    },
    {
      "cell_type": "code",
      "source": [
        "#Group the data based on the duration and target ages.\n",
        "group_by_= netflix_hypothesis[['duration','target_ages']].groupby(by='target_ages')\n",
        "#mean of group_by variable\n",
        "group=group_by_.mean().reset_index()\n",
        "group\n"
      ],
      "metadata": {
        "id": "9ZS0EJjyeJWv"
      },
      "execution_count": null,
      "outputs": []
    },
    {
      "cell_type": "code",
      "source": [
        "#Grouping values in variables A and B\n",
        "A= group_by_.get_group('Kids')\n",
        "B= group_by_.get_group('Older Kids')\n",
        "#Calculating the average and the spread (how much the values vary) for both the \"kids\" and \"older kids\" groups.\n",
        "M1 = A.mean()\n",
        "S1 = A.std()\n",
        "\n",
        "M2= B.mean()\n",
        "S2 = B.std()\n",
        "\n",
        "print('Mean for movies rated for Kids {} \\n Mean for  movies rated for older kids {}'.format(M1,M2))\n",
        "print('Std for  movies rated for Older Kids {} \\n Std for  movies rated for kids {}'.format(S2,S1))"
      ],
      "metadata": {
        "id": "rz70-Q5AeYe6"
      },
      "execution_count": null,
      "outputs": []
    },
    {
      "cell_type": "code",
      "source": [
        "#import stats\n",
        "from scipy import stats\n",
        "#length of groups and DOF\n",
        "n1 = len(A)\n",
        "n2= len(B)\n",
        "print(n1,n2)\n",
        "\n",
        "dof = n1+n2-2\n",
        "print('dof',dof)\n",
        "\n",
        "sp_2 = ((n2-1)*S1**2  + (n1-1)*S2**2) / dof\n",
        "print('SP_2 =',sp_2)\n",
        "\n",
        "sp = np.sqrt(sp_2)\n",
        "print('SP',sp)\n",
        "\n",
        "#tvalue\n",
        "t_val = (M1-M2)/(sp * np.sqrt(1/n1 + 1/n2))\n",
        "print('tvalue',t_val[0])\n"
      ],
      "metadata": {
        "id": "ZvKZSpbMeykE"
      },
      "execution_count": null,
      "outputs": []
    },
    {
      "cell_type": "code",
      "source": [
        "#t-distribution\n",
        "stats.t.ppf(0.025,dof)\n"
      ],
      "metadata": {
        "id": "TngqXfdWe1ow"
      },
      "execution_count": null,
      "outputs": []
    },
    {
      "cell_type": "code",
      "source": [
        "#t-distribution\n",
        "stats.t.ppf(0.975,dof)"
      ],
      "metadata": {
        "id": "3CWG1u0oe5U4"
      },
      "execution_count": null,
      "outputs": []
    },
    {
      "cell_type": "markdown",
      "source": [
        "**Answer Here.**\n",
        "\n",
        "\n",
        "Since the t-value isn't within the expected range, we can't accept the null hypothesis.\n",
        "\n",
        "So, any movies that last longer than 90 minutes are considered."
      ],
      "metadata": {
        "id": "-7MS06SUHkB-"
      }
    },
    {
      "cell_type": "markdown",
      "source": [
        "## ***6. Feature Engineering & Data Pre-processing***"
      ],
      "metadata": {
        "id": "yLjJCtPM0KBk"
      }
    },
    {
      "cell_type": "code",
      "source": [
        "# Merging all the characteristics used for clustering into one single column.\n",
        "netflix_movies1['clustering'] = (netflix_movies1['director'] + ' ' + netflix_movies1['cast'] +' ' +\n",
        "                                 netflix_movies1['country'] +' ' + netflix_movies1['listed_in'] +\n",
        "                                 ' ' + netflix_movies1['description'])\n"
      ],
      "metadata": {
        "id": "LzVa73nwOZcY"
      },
      "execution_count": null,
      "outputs": []
    },
    {
      "cell_type": "code",
      "source": [
        "netflix_movies1['clustering'][25]"
      ],
      "metadata": {
        "id": "L7dKGPO5OlUy"
      },
      "execution_count": null,
      "outputs": []
    },
    {
      "cell_type": "markdown",
      "source": [
        "### 4. Textual Data Preprocessing\n",
        "(It's mandatory for textual dataset i.e., NLP, Sentiment Analysis, Text Clustering etc.)"
      ],
      "metadata": {
        "id": "Iwf50b-R2tYG"
      }
    },
    {
      "cell_type": "code",
      "source": [
        "# Expand Contraction\n",
        "# Lower Casing\n",
        "# Remove Punctuations\n",
        "# Remove URLs & Remove words and digits contain digits\n",
        "# Remove Stopwords\n",
        "# Remove White spaces\n",
        "# Rephrase Text\n",
        "# Tokenization\n",
        "# Normalizing Text (i.e., Stemming, Lemmatization etc.)\n",
        "\n",
        "import re\n",
        "import nltk\n",
        "from nltk.corpus import stopwords\n",
        "from nltk.stem import PorterStemmer, WordNetLemmatizer\n",
        "import string\n",
        "import nltk\n",
        "nltk.download('all',quiet=True)\n",
        "from PIL import Image\n",
        "\n",
        "def transform_text(text):\n",
        "    # Convert text to lowercase\n",
        "    text = text.lower()\n",
        "\n",
        "    # Remove URLs\n",
        "    text = re.sub(r'http\\S+', '', text)\n",
        "\n",
        "    # Tokenize text into words\n",
        "    words = nltk.word_tokenize(text)\n",
        "\n",
        "    # Remove non-alphanumeric characters\n",
        "    words = [word for word in words if word.isalnum()]\n",
        "\n",
        "    # Remove stopwords and punctuation\n",
        "    stopwords_set = set(stopwords.words('english'))\n",
        "    punctuation_set = set(string.punctuation)\n",
        "    words = [word for word in words if word not in stopwords_set and word not in punctuation_set]\n",
        "\n",
        "    # Lemmatize words\n",
        "    lemmatizer = WordNetLemmatizer()\n",
        "    lemmatized_words = [lemmatizer.lemmatize(word) for word in words]\n",
        "\n",
        "    # Join words into a string and return\n",
        "    return ' '.join(lemmatized_words)\n",
        "\n"
      ],
      "metadata": {
        "id": "lNXSeHZ2Oyiy"
      },
      "execution_count": null,
      "outputs": []
    },
    {
      "cell_type": "code",
      "source": [
        "netflix_movies1['Clean_Text'] = netflix_movies1['clustering'].apply(transform_text)\n"
      ],
      "metadata": {
        "id": "Q2ZDkd69O-99"
      },
      "execution_count": null,
      "outputs": []
    },
    {
      "cell_type": "code",
      "source": [
        "netflix_movies1[\"Clean_Text\"][50]"
      ],
      "metadata": {
        "id": "Z_6wcfaGPBv_"
      },
      "execution_count": null,
      "outputs": []
    },
    {
      "cell_type": "markdown",
      "source": [
        "#### 8. Text Normalization"
      ],
      "metadata": {
        "id": "9ExmJH0g5HBk"
      }
    },
    {
      "cell_type": "markdown",
      "source": [
        "**TF-IDF is a method that combines two measures to help understand the significance of words in documents.**\n",
        "\n",
        "**Term Frequency (TF): **This shows how often a word appears in a document. If a word shows up a lot, it's likely important for that document. The calculation goes like this:\n",
        "\n",
        "TF(t, d) = (Number of times the word 't' appears in document 'd') / (Total number of words in document 'd')\n",
        "\n",
        "\n",
        "**Inverse Document Frequency (IDF):** This reveals how important a word is across all documents. Words that are rare across all documents get more importance. The formula for this is:\n",
        "\n",
        "IDF(t) = log_e(Total number of documents / Number of documents containing the word 't')"
      ],
      "metadata": {
        "id": "hza6ZXVNP03W"
      }
    },
    {
      "cell_type": "code",
      "source": [
        "bag_of_words = netflix_movies1.Clean_Text"
      ],
      "metadata": {
        "id": "KONxfW8_Ra_o"
      },
      "execution_count": null,
      "outputs": []
    },
    {
      "cell_type": "code",
      "source": [
        "t_vectorizer = TfidfVectorizer(max_features=20000)\n",
        "X= t_vectorizer.fit_transform(bag_of_words)"
      ],
      "metadata": {
        "id": "G6gHjsKMRl4B"
      },
      "execution_count": null,
      "outputs": []
    },
    {
      "cell_type": "code",
      "source": [
        "print(X.shape)"
      ],
      "metadata": {
        "id": "uQX_eobmRokH"
      },
      "execution_count": null,
      "outputs": []
    },
    {
      "cell_type": "code",
      "source": [
        "t_vectorizer.get_feature_names_out()"
      ],
      "metadata": {
        "id": "kH1DKhn6RsFU"
      },
      "execution_count": null,
      "outputs": []
    },
    {
      "cell_type": "markdown",
      "source": [
        "### 7. Dimesionality Reduction"
      ],
      "metadata": {
        "id": "1UUpS68QDMuG"
      }
    },
    {
      "cell_type": "markdown",
      "source": [
        "##### **Do you think that dimensionality reduction is needed? Explain Why?**"
      ],
      "metadata": {
        "id": "kexQrXU-DjzY"
      }
    },
    {
      "cell_type": "markdown",
      "source": [
        "**Answer Here.**\n",
        "\n",
        "PCA is a method used to make datasets simpler by reducing their complexity. It figures out the main directions (principal components) in which the data changes the most. These components are arranged based on how much of the data's variety they account for."
      ],
      "metadata": {
        "id": "GGRlBsSGDtTQ"
      }
    },
    {
      "cell_type": "code",
      "source": [
        "# DImensionality Reduction (If needed)\n",
        "#PCA Code\n",
        "import numpy as np\n",
        "from sklearn.decomposition import PCA\n",
        "import matplotlib.pyplot as plt\n",
        "transformer = PCA()\n",
        "transformer.fit(X.toarray())"
      ],
      "metadata": {
        "id": "C2pe6lF5SKPJ"
      },
      "execution_count": null,
      "outputs": []
    },
    {
      "cell_type": "markdown",
      "source": [
        "##### **Which dimensionality reduction technique have you used and why? (If dimensionality reduction done on dataset.)**"
      ],
      "metadata": {
        "id": "T5CmagL3EC8N"
      }
    },
    {
      "cell_type": "markdown",
      "source": [
        "**Answer Here.**\n",
        "\n",
        "PCA is like a magic tool for data. It takes all the important stuff from a bunch of information and makes it simpler to understand. It changes the information into a new form that doesn't have any connections between the parts. These new parts are like special ingredients that show the biggest differences in the information."
      ],
      "metadata": {
        "id": "ZKr75IDuEM7t"
      }
    },
    {
      "cell_type": "code",
      "source": [
        "#let's graph the amount of variation we can understand against the number of components we include. This will help us figure out how many components we should take into account.\n",
        "#explained var v/s comp\n",
        "# Add a grid to the plot\n",
        "import matplotlib.pyplot as plt\n",
        "plt.figure(figsize=(15,5), dpi=120)\n",
        "plt.plot(np.cumsum(transformer.explained_variance_ratio_))\n",
        "plt.xlabel('number of components')\n",
        "plt.ylabel('cumulative explained variance')\n",
        "plt.axhline(y=0.95, color='r', linestyle='--',linewidth=2, label='95% Explained Variance')\n",
        "plt.grid()\n",
        "plt.show()\n"
      ],
      "metadata": {
        "id": "HAi1ecd5TWDW"
      },
      "execution_count": null,
      "outputs": []
    },
    {
      "cell_type": "markdown",
      "source": [
        "**The story helps you figure out how many parts to use to make data simpler. You can pick the number of parts where the total explained information becomes good enough, like 95%. The spot where the line on the graph meets or gets really close to the chosen amount can help you decide how many parts to use for your study.**"
      ],
      "metadata": {
        "id": "pcd7OwlwT9mQ"
      }
    },
    {
      "cell_type": "code",
      "source": [
        "# Import the necessary libraries\n",
        "from sklearn.decomposition import PCA\n",
        "#Make a PCA instance and choose the wanted proportion of explained variance.\n",
        "pca_tuned = PCA(n_components=0.95)\n",
        "# Train the PCA model using the input data, X, after converting it into a solid numerical array.\n",
        "pca_tuned.fit(X.toarray())\n",
        "# Convert the given input data, X, into a version with fewer dimensions.\n",
        "X_transformed = pca_tuned.transform(X.toarray())\n",
        "# Print the shape of the transformed data to see the number of samples and transformed features\n",
        "print(X_transformed.shape)\n"
      ],
      "metadata": {
        "id": "k2BmNHMLUJTb"
      },
      "execution_count": null,
      "outputs": []
    },
    {
      "cell_type": "code",
      "source": [
        "X_transformed"
      ],
      "metadata": {
        "id": "LUNSfyX7UkOZ"
      },
      "execution_count": null,
      "outputs": []
    },
    {
      "cell_type": "code",
      "source": [],
      "metadata": {
        "id": "CoZU96ogZKDv"
      },
      "execution_count": null,
      "outputs": []
    },
    {
      "cell_type": "markdown",
      "source": [
        "## ***7. ML Model Implementation***"
      ],
      "metadata": {
        "id": "VfCC591jGiD4"
      }
    },
    {
      "cell_type": "code",
      "source": [
        "\n",
        "from sklearn.cluster import KMeans\n",
        "from yellowbrick.cluster import KElbowVisualizer\n",
        "\n",
        "# Initialize the KMeans model with a random_state of 5\n",
        "model = KMeans(random_state=5)\n",
        "\n",
        "# Initialize the KElbowVisualizer with the KMeans model and desired parameters\n",
        "visualizer = KElbowVisualizer(model, k=(4, 22), metric='silhouette', timings=False, locate_elbow=True)\n",
        "\n",
        "# Fit the visualizer on the transformed data\n",
        "visualizer.fit(X_transformed)\n",
        "\n",
        "# Display the elbow plot\n",
        "visualizer.show()\n"
      ],
      "metadata": {
        "id": "X2_Q4tzeUxXJ"
      },
      "execution_count": null,
      "outputs": []
    },
    {
      "cell_type": "markdown",
      "source": [
        "**The graph will also show the point where there's a bend, like the elbow, which suggests the best number of groups according to the chosen measurement. We're using a graph with a bend that suggests 5 clusters are ideal.**"
      ],
      "metadata": {
        "id": "cTIAvo3gVZdm"
      }
    },
    {
      "cell_type": "code",
      "source": [
        "from yellowbrick.cluster import SilhouetteVisualizer\n",
        "from sklearn.metrics import silhouette_score, silhouette_samples\n",
        "\n",
        "def silhouette_score_analysis(n):\n",
        "\n",
        "  for n_clusters in range(2,n):\n",
        "      km = KMeans (n_clusters=n_clusters, random_state=5)\n",
        "      preds = km.fit_predict(X_transformed)\n",
        "      centers = km.cluster_centers_\n",
        "\n",
        "      score = silhouette_score(X_transformed, preds, metric='euclidean')\n",
        "      print (\"For n_clusters = {}, silhouette score is {}\".format(n_clusters, score))\n",
        "\n",
        "      visualizer = SilhouetteVisualizer(km)\n",
        "\n",
        "      visualizer.fit(X_transformed) # Fit the training data to the visualizer\n",
        "      visualizer.poof() # Draw/show/poof the data\n",
        "\n"
      ],
      "metadata": {
        "id": "tnNAFNaGVe4u"
      },
      "execution_count": null,
      "outputs": []
    },
    {
      "cell_type": "code",
      "source": [
        "silhouette_score_analysis(15)"
      ],
      "metadata": {
        "id": "X5ttJ7w3ViTI"
      },
      "execution_count": null,
      "outputs": []
    },
    {
      "cell_type": "code",
      "source": [
        "import matplotlib.pyplot as plt\n",
        "from sklearn.cluster import KMeans\n",
        "\n",
        "# Make a picture with a certain width and height, and make it clear and detailed.\n",
        "plt.figure(figsize=(10, 6), dpi=120)\n",
        "\n",
        "# Initialize an empty list to store the within-cluster sum of squares (WCSS)\n",
        "wcss = []\n",
        "\n",
        "# Go through various amounts of clusters one by one.\n",
        "for i in range(1, 22):\n",
        "    # Make a KMeans model using the default settings.\n",
        "    model = KMeans(random_state=0)\n",
        "\n",
        "    #Start the KMeans algorithm with particular settings.\n",
        "    kmeans = KMeans(n_clusters=i, init='k-means++', max_iter=300, n_init=10, random_state=0)\n",
        "\n",
        "    # Fit the KMeans algorithm to the transformed data\n",
        "    kmeans.fit(X_transformed)\n",
        "\n",
        "    # Append the WCSS to the list\n",
        "    wcss.append(kmeans.inertia_)\n",
        "\n",
        "# Plot the number of clusters against the WCSS\n",
        "plt.plot(range(1, 22), wcss)"
      ],
      "metadata": {
        "id": "Z8aw7gPcVp0U"
      },
      "execution_count": null,
      "outputs": []
    },
    {
      "cell_type": "code",
      "source": [
        "import matplotlib.pyplot as plt\n",
        "from sklearn.cluster import KMeans\n",
        "import numpy as np\n",
        "\n",
        "# Create a figure with a larger size and resolution\n",
        "plt.figure(figsize=(20, 8), dpi=120)\n",
        "\n",
        "# Initialize a KMeans model with 15 clusters\n",
        "kmeans = KMeans(n_clusters=15, init='k-means++', random_state=9)\n",
        "\n",
        "# Fit the KMeans algorithm to the transformed data\n",
        "kmeans.fit(X_transformed)\n",
        "\n",
        "# Predict the labels of the clusters\n",
        "label = kmeans.fit_predict(X_transformed)\n",
        "\n",
        "# Get unique labels from the predictions\n",
        "unique_labels = np.unique(label)\n",
        "\n",
        "# Plot the results\n",
        "for i in unique_labels:\n",
        "    # Scatter plot the points belonging to each cluster\n",
        "    plt.scatter(X_transformed[label == i, 0], X_transformed[label == i, 1], label=i)\n",
        "\n",
        "# Display a legend to identify the clusters\n",
        "plt.legend()\n",
        "\n",
        "# Show the plot\n",
        "plt.show()"
      ],
      "metadata": {
        "id": "Braoco9TXLXm"
      },
      "execution_count": null,
      "outputs": []
    },
    {
      "cell_type": "code",
      "source": [
        "# Add cluster values to the dateframe.\n",
        "netflix_movies1['cluster_number'] = kmeans.labels_"
      ],
      "metadata": {
        "id": "FIaheFqwX6Yt"
      },
      "execution_count": null,
      "outputs": []
    },
    {
      "cell_type": "code",
      "source": [
        "netflix_movies1.head(1)"
      ],
      "metadata": {
        "id": "kpkAzPrEYC50"
      },
      "execution_count": null,
      "outputs": []
    },
    {
      "cell_type": "code",
      "source": [
        "# Determine how many movies or TV shows are in each group.\n",
        "cluster_content_count = netflix_movies1['cluster_number'].value_counts().reset_index().rename(columns={'index': 'clusters', 'clusters': 'Movies/TV_Shows'})\n",
        "\n",
        "# Print the cluster content count\n",
        "print(cluster_content_count)"
      ],
      "metadata": {
        "id": "o9E0BiEaYFQ2"
      },
      "execution_count": null,
      "outputs": []
    },
    {
      "cell_type": "code",
      "source": [
        "#word cloud\n",
        "from wordcloud import WordCloud, STOPWORDS\n",
        "import matplotlib.pyplot as plt\n",
        "def word_count(category):\n",
        "  print(\"Exploring Cluster\", category)\n",
        "  col_names = ['type','title','country','rating','listed_in','description']\n",
        "  for i in col_names:\n",
        "    df_word_cloud = netflix_movies1[['cluster_number',i]].dropna()\n",
        "    df_word_cloud = df_word_cloud[df_word_cloud['cluster_number']==category]\n",
        "    text = \" \".join(word for word in df_word_cloud[i])\n",
        "    # Create stopword list:\n",
        "    stopwords = set(STOPWORDS)\n",
        "  # Generate a word cloud image\n",
        "    wordcloud = WordCloud(stopwords=stopwords, background_color=\"#FFC0CB\",width=500,height=500).generate(text)\n",
        "  # Display the generated image:\n",
        "  # the matplotlib way:\n",
        "    plt.rcParams[\"figure.figsize\"] = (10,10)\n",
        "    plt.imshow(wordcloud, interpolation='bilinear')\n",
        "    plt.axis(\"off\")\n",
        "\n",
        "    print(\"Looking for insights from\", i ,\"Movies/TV Shows\")\n",
        "\n",
        "    plt.show()\n",
        "\n",
        "\n"
      ],
      "metadata": {
        "id": "YLEUXy0cYS2l"
      },
      "execution_count": null,
      "outputs": []
    },
    {
      "cell_type": "code",
      "source": [
        "word_count(9)"
      ],
      "metadata": {
        "id": "NI_46CTXYksB"
      },
      "execution_count": null,
      "outputs": []
    },
    {
      "cell_type": "markdown",
      "source": [
        "**Cluster 9 within a dataset has 232 words in total. The words that appear most often in this cluster are**:\n",
        "\n",
        "**Type**: Movies and TV Shows\n",
        "\n",
        "**Title**: Broadway, Remastered, Christmas, Friends Orchestra\n",
        "\n",
        "**Country**: United Kingdom, Argentina, United States, India\n",
        "\n",
        "**Rating**: TV-MA, PG-TV\n",
        "\n",
        "**Categories**: Dramas International, Musical Dramas, Musical Documentaries, Comedies International\n",
        "\n",
        "**Description**: Documentary, Music, One, Bad, Tour, Love."
      ],
      "metadata": {
        "id": "dVqZ6dTYZe-V"
      }
    },
    {
      "cell_type": "code",
      "source": [
        "word_count(11)"
      ],
      "metadata": {
        "id": "KgY6anImZdFL"
      },
      "execution_count": null,
      "outputs": []
    },
    {
      "cell_type": "markdown",
      "source": [
        "**Cluster 11 in the dataset holds a collection of 410 words. The words that appear most often in this cluster are**:\n",
        "\n",
        "**Category**: Movies & TV Shows\n",
        "\n",
        "**Titles**: Special, America, Time, Live, Comedy, Netflix Alive, Martin\n",
        "\n",
        "**Countries**: United States, Brazil, Mexico, Italy\n",
        "\n",
        "**Ratings**: TV-MA, TV-PG\n",
        "\n",
        "**Categories**: TV Comedies, Comedy Stand, Talk Shows\n",
        "\n",
        "**Descriptions**: Comedy performed on stage, Humorous, Experiencing life, Live entertainment, Sharing stories.\n",
        "\n",
        "**Descriptions**: Documentary, Music, Singular, Negative, Touring, Love."
      ],
      "metadata": {
        "id": "0sC1ySgoaH3z"
      }
    },
    {
      "cell_type": "markdown",
      "source": [
        "# **Recommender system**\n",
        "\n",
        "**A recommender system is like a helper that suggests things you might like**. It looks at what you've shown interest in before, what you like, and what you've done in the past. I**t's used in places like online stores, streaming sites, and social media to give you suggestions that you'll probably enjoy.**\n",
        "\n",
        "There's one way it works called **content-based filtering**. This means it suggests things that are similar to what you've already liked. It looks at the details of the stuff you've enjoyed and suggests more things like that. For example, if you really like action movies, it will recommend other action movies that have similar actors, storylines, or themes."
      ],
      "metadata": {
        "id": "--lbd8YZahKx"
      }
    },
    {
      "cell_type": "code",
      "source": [
        "from sklearn.metrics.pairwise import cosine_similarity\n",
        "from sklearn.feature_extraction.text import CountVectorizer"
      ],
      "metadata": {
        "id": "nYC6nJNJbMz2"
      },
      "execution_count": null,
      "outputs": []
    },
    {
      "cell_type": "code",
      "source": [
        "\n",
        "#removing stopwords\n",
        "tfidf = TfidfVectorizer(stop_words='english')\n",
        "\n",
        "#Replace NaN with an empty string\n",
        "netflix_movies1['description'] = netflix_movies1['description'].fillna('')\n",
        "\n",
        "#Construct the required TF-IDF matrix by fitting and transforming the data\n",
        "tfidf_matrix = tfidf.fit_transform(netflix_movies1['description'])\n",
        "\n",
        "#Output the shape of tfidf_matrix\n",
        "tfidf_matrix.shape\n"
      ],
      "metadata": {
        "id": "lx9o0docbO6K"
      },
      "execution_count": null,
      "outputs": []
    },
    {
      "cell_type": "code",
      "source": [
        "# Import linear_kernel\n",
        "from sklearn.metrics.pairwise import linear_kernel\n",
        "# Compute the cosine similarity matrix\n",
        "cosine_sim = linear_kernel(tfidf_matrix, tfidf_matrix)"
      ],
      "metadata": {
        "id": "giGaX9m8bRKu"
      },
      "execution_count": null,
      "outputs": []
    },
    {
      "cell_type": "code",
      "source": [
        "cosine_sim"
      ],
      "metadata": {
        "id": "SN2F2tVpbTNx"
      },
      "execution_count": null,
      "outputs": []
    },
    {
      "cell_type": "code",
      "source": [
        "indices = pd.Series(netflix_movies1.index, index=netflix_movies1['title']).drop_duplicates()"
      ],
      "metadata": {
        "id": "sl6KsWrebYst"
      },
      "execution_count": null,
      "outputs": []
    },
    {
      "cell_type": "code",
      "source": [
        "def get_recommendations(title, cosine_sim=cosine_sim):\n",
        "    idx = indices[title]\n",
        "\n",
        "    # Get the pairwsie similarity scores of all movies with that movie\n",
        "    sim_scores = list(enumerate(cosine_sim[idx]))\n",
        "\n",
        "    # Sort the movies based on the similarity scores\n",
        "    sim_scores = sorted(sim_scores, key=lambda x: x[1], reverse=True)\n",
        "\n",
        "    # Get the scores of the 10 most similar movies\n",
        "    sim_scores = sim_scores[1:11]\n",
        "    # Get the movie indices\n",
        "    movie_indices = [i[0] for i in sim_scores]\n",
        "\n",
        "    # Return the top 10 most similar movies\n",
        "    return netflix_movies1['title'].iloc[movie_indices]"
      ],
      "metadata": {
        "id": "Kr3sYb6-bc6v"
      },
      "execution_count": null,
      "outputs": []
    },
    {
      "cell_type": "code",
      "source": [
        "netflix_movies1['title'][1:70]"
      ],
      "metadata": {
        "id": "_BrPnT23bf43"
      },
      "execution_count": null,
      "outputs": []
    },
    {
      "cell_type": "code",
      "source": [
        "get_recommendations( '14 Cameras',cosine_sim)"
      ],
      "metadata": {
        "id": "Pq_zj69PbiJK"
      },
      "execution_count": null,
      "outputs": []
    },
    {
      "cell_type": "markdown",
      "source": [
        "# **Conclusion**"
      ],
      "metadata": {
        "id": "gCX9965dhzqZ"
      }
    },
    {
      "cell_type": "markdown",
      "source": [
        "Write the conclusion here.\n",
        "\n",
        "1- It's interesting to observe that most of what you can watch on Netflix are movies. However, in recent times, the platform has been paying more attention to TV shows.\n",
        "\n",
        "2- These shows mostly come out either towards the start or the end of the year.\n",
        "\n",
        "3- Among all the countries contributing content to Netflix, the United States and India stand out in the top five. Additionally, out of the ten actors who have the most content, six are from India.\n",
        "\n",
        "4- When we look at content ratings, TV-MA is the leader, showing that mature content is quite popular on Netflix.\n",
        "\n",
        "5- The number \"k\" that worked best for categorizing the data was 15. This number was used to put the content into ten different groups.\n",
        "\n",
        "6- With this information, a recommender system was made based on the content itself. It used cosine similarity to suggest Movies and TV shows for you to watch.\n",
        "\n",
        "\n",
        "\n",
        "\n",
        "\n"
      ],
      "metadata": {
        "id": "Fjb1IsQkh3yE"
      }
    },
    {
      "cell_type": "markdown",
      "source": [
        "# **Future Work**\n",
        "\n",
        "Combining this dataset with outside information like IMDB ratings, grouping of books, and categorizing plant types could uncover many fascinating findings.\n",
        "\n",
        "By adding more data, we could create a better recommendation system that gives users even better suggestions. This improved system could be put on the internet for lots of people to use."
      ],
      "metadata": {
        "id": "8zp1FVna5mAa"
      }
    },
    {
      "cell_type": "markdown",
      "source": [
        "### ***Hurrah! You have successfully completed your Machine Learning Capstone Project !!!***"
      ],
      "metadata": {
        "id": "gIfDvo9L0UH2"
      }
    }
  ]
}